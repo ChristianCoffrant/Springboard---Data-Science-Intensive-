{
 "cells": [
  {
   "cell_type": "markdown",
   "metadata": {},
   "source": [
    "# Capstone Project 1 - Final Report\n",
    "\n",
    "## Introduction\n",
    "\n",
    "In 2008, a Portuguese bank conducted a 3-year telemarketing campaign to over 45,000 existing customers, with the aim of increasing term deposit customers. The campaign data and results were then analysed in a research paper titled “Using Data Mining for Bank Direct Marketing: An Application of the CRISP-DM Methodology”. The paper’s researchers developed a model, using customer demographics and other factors, to predict the likelihood of a customer opening a term deposit. Based on the model, the authors then shared insights and recommended actions for the better performance and Return Of Investment (ROI) of future direct marketing campaigns.\n",
    "\n",
    "The researchers made a portion of the marketing dataset available to the public. It contains the information of 45,211 customers who were contacted, with some redacted fields due to privacy concerns. For this project, I have utilised this data set  to create my own predictive models, I will also try to gain insights which will be able to help future marketing campaigns.\n",
    "\n",
    "The original research paper can be found here:\n",
    "\n",
    "https://pdfs.semanticscholar.org/a175/aeb08734fd669beaffd3d185a424a6f03b84.pdf\n"
   ]
  },
  {
   "cell_type": "markdown",
   "metadata": {},
   "source": [
    "## Exploritory Data Analysis\n",
    "\n",
    "We will start by importing the data and analysing the overall structure of the dataset."
   ]
  },
  {
   "cell_type": "code",
   "execution_count": 4,
   "metadata": {},
   "outputs": [
    {
     "name": "stderr",
     "output_type": "stream",
     "text": [
      "C:\\ProgramData\\Anaconda3\\lib\\site-packages\\statsmodels\\compat\\pandas.py:56: FutureWarning: The pandas.core.datetools module is deprecated and will be removed in a future version. Please use the pandas.tseries module instead.\n",
      "  from pandas.core import datetools\n",
      "C:\\ProgramData\\Anaconda3\\lib\\site-packages\\sklearn\\cross_validation.py:44: DeprecationWarning: This module was deprecated in version 0.18 in favor of the model_selection module into which all the refactored classes and functions are moved. Also note that the interface of the new CV iterators are different from that of this module. This module will be removed in 0.20.\n",
      "  \"This module will be removed in 0.20.\", DeprecationWarning)\n"
     ]
    }
   ],
   "source": [
    "import pandas as pd\n",
    "import warnings\n",
    "import math\n",
    "import numpy as np\n",
    "import scipy.stats as stats\n",
    "import matplotlib.pyplot as plt\n",
    "import seaborn as sns\n",
    "import statsmodels.api as sm\n",
    "from sklearn.model_selection import train_test_split, cross_val_score\n",
    "from sklearn.tree import DecisionTreeClassifier\n",
    "from sklearn import metrics\n",
    "from sklearn.ensemble import RandomForestClassifier\n",
    "from sklearn.linear_model import LogisticRegression, LinearRegression\n",
    "from sklearn.model_selection import GridSearchCV\n",
    "import xgboost as xgb\n",
    "from sklearn.preprocessing import LabelEncoder\n",
    "from sklearn.metrics import classification_report, accuracy_score, roc_auc_score\n",
    "%matplotlib inline\n",
    "warnings.simplefilter(action='ignore', category=FutureWarning)"
   ]
  },
  {
   "cell_type": "code",
   "execution_count": 5,
   "metadata": {
    "collapsed": true
   },
   "outputs": [],
   "source": [
    "# Load the data into a pandas data frame\n",
    "bank = pd.read_csv('bank_full.csv', delimiter=',')"
   ]
  },
  {
   "cell_type": "markdown",
   "metadata": {},
   "source": [
    "To get a better idea of what the dataset looks like, we look at the head, description, and data types of the dataset."
   ]
  },
  {
   "cell_type": "code",
   "execution_count": 6,
   "metadata": {},
   "outputs": [
    {
     "name": "stdout",
     "output_type": "stream",
     "text": [
      "   age           job  marital  education default  balance housing loan  \\\n",
      "0   58    management  married   tertiary      no     2143     yes   no   \n",
      "1   44    technician   single  secondary      no       29     yes   no   \n",
      "2   33  entrepreneur  married  secondary      no        2     yes  yes   \n",
      "3   47   blue-collar  married    unknown      no     1506     yes   no   \n",
      "4   33       unknown   single    unknown      no        1      no   no   \n",
      "\n",
      "   contact  day month  year  duration  campaign  pdays  previous poutcome   y  \n",
      "0  unknown    5   may  2008       261         1     -1         0  unknown  no  \n",
      "1  unknown    5   may  2008       151         1     -1         0  unknown  no  \n",
      "2  unknown    5   may  2008        76         1     -1         0  unknown  no  \n",
      "3  unknown    5   may  2008        92         1     -1         0  unknown  no  \n",
      "4  unknown    5   may  2008       198         1     -1         0  unknown  no  \n"
     ]
    }
   ],
   "source": [
    "print(bank.head())"
   ]
  },
  {
   "cell_type": "code",
   "execution_count": 4,
   "metadata": {},
   "outputs": [
    {
     "name": "stdout",
     "output_type": "stream",
     "text": [
      "<class 'pandas.core.frame.DataFrame'>\n",
      "RangeIndex: 45211 entries, 0 to 45210\n",
      "Data columns (total 18 columns):\n",
      "age          45211 non-null int64\n",
      "job          45211 non-null object\n",
      "marital      45211 non-null object\n",
      "education    45211 non-null object\n",
      "default      45211 non-null object\n",
      "balance      45211 non-null int64\n",
      "housing      45211 non-null object\n",
      "loan         45211 non-null object\n",
      "contact      45211 non-null object\n",
      "day          45211 non-null int64\n",
      "month        45211 non-null object\n",
      "year         45211 non-null int64\n",
      "duration     45211 non-null int64\n",
      "campaign     45211 non-null int64\n",
      "pdays        45211 non-null int64\n",
      "previous     45211 non-null int64\n",
      "poutcome     45211 non-null object\n",
      "y            45211 non-null object\n",
      "dtypes: int64(8), object(10)\n",
      "memory usage: 6.2+ MB\n"
     ]
    }
   ],
   "source": [
    "bank.info()"
   ]
  },
  {
   "cell_type": "code",
   "execution_count": 5,
   "metadata": {},
   "outputs": [
    {
     "data": {
      "text/html": [
       "<div>\n",
       "<style>\n",
       "    .dataframe thead tr:only-child th {\n",
       "        text-align: right;\n",
       "    }\n",
       "\n",
       "    .dataframe thead th {\n",
       "        text-align: left;\n",
       "    }\n",
       "\n",
       "    .dataframe tbody tr th {\n",
       "        vertical-align: top;\n",
       "    }\n",
       "</style>\n",
       "<table border=\"1\" class=\"dataframe\">\n",
       "  <thead>\n",
       "    <tr style=\"text-align: right;\">\n",
       "      <th></th>\n",
       "      <th>age</th>\n",
       "      <th>balance</th>\n",
       "      <th>day</th>\n",
       "      <th>year</th>\n",
       "      <th>duration</th>\n",
       "      <th>campaign</th>\n",
       "      <th>pdays</th>\n",
       "      <th>previous</th>\n",
       "    </tr>\n",
       "  </thead>\n",
       "  <tbody>\n",
       "    <tr>\n",
       "      <th>count</th>\n",
       "      <td>45211.000000</td>\n",
       "      <td>45211.000000</td>\n",
       "      <td>45211.000000</td>\n",
       "      <td>45211.000000</td>\n",
       "      <td>45211.000000</td>\n",
       "      <td>45211.000000</td>\n",
       "      <td>45211.000000</td>\n",
       "      <td>45211.000000</td>\n",
       "    </tr>\n",
       "    <tr>\n",
       "      <th>mean</th>\n",
       "      <td>40.936210</td>\n",
       "      <td>1362.272058</td>\n",
       "      <td>15.806419</td>\n",
       "      <td>2008.444626</td>\n",
       "      <td>258.163080</td>\n",
       "      <td>2.763841</td>\n",
       "      <td>40.197828</td>\n",
       "      <td>0.580323</td>\n",
       "    </tr>\n",
       "    <tr>\n",
       "      <th>std</th>\n",
       "      <td>10.618762</td>\n",
       "      <td>3044.765829</td>\n",
       "      <td>8.322476</td>\n",
       "      <td>0.602364</td>\n",
       "      <td>257.527812</td>\n",
       "      <td>3.098021</td>\n",
       "      <td>100.128746</td>\n",
       "      <td>2.303441</td>\n",
       "    </tr>\n",
       "    <tr>\n",
       "      <th>min</th>\n",
       "      <td>18.000000</td>\n",
       "      <td>-8019.000000</td>\n",
       "      <td>1.000000</td>\n",
       "      <td>2008.000000</td>\n",
       "      <td>0.000000</td>\n",
       "      <td>1.000000</td>\n",
       "      <td>-1.000000</td>\n",
       "      <td>0.000000</td>\n",
       "    </tr>\n",
       "    <tr>\n",
       "      <th>25%</th>\n",
       "      <td>33.000000</td>\n",
       "      <td>72.000000</td>\n",
       "      <td>8.000000</td>\n",
       "      <td>2008.000000</td>\n",
       "      <td>103.000000</td>\n",
       "      <td>1.000000</td>\n",
       "      <td>-1.000000</td>\n",
       "      <td>0.000000</td>\n",
       "    </tr>\n",
       "    <tr>\n",
       "      <th>50%</th>\n",
       "      <td>39.000000</td>\n",
       "      <td>448.000000</td>\n",
       "      <td>16.000000</td>\n",
       "      <td>2008.000000</td>\n",
       "      <td>180.000000</td>\n",
       "      <td>2.000000</td>\n",
       "      <td>-1.000000</td>\n",
       "      <td>0.000000</td>\n",
       "    </tr>\n",
       "    <tr>\n",
       "      <th>75%</th>\n",
       "      <td>48.000000</td>\n",
       "      <td>1428.000000</td>\n",
       "      <td>21.000000</td>\n",
       "      <td>2009.000000</td>\n",
       "      <td>319.000000</td>\n",
       "      <td>3.000000</td>\n",
       "      <td>-1.000000</td>\n",
       "      <td>0.000000</td>\n",
       "    </tr>\n",
       "    <tr>\n",
       "      <th>max</th>\n",
       "      <td>95.000000</td>\n",
       "      <td>102127.000000</td>\n",
       "      <td>31.000000</td>\n",
       "      <td>2010.000000</td>\n",
       "      <td>4918.000000</td>\n",
       "      <td>63.000000</td>\n",
       "      <td>871.000000</td>\n",
       "      <td>275.000000</td>\n",
       "    </tr>\n",
       "  </tbody>\n",
       "</table>\n",
       "</div>"
      ],
      "text/plain": [
       "                age        balance           day          year      duration  \\\n",
       "count  45211.000000   45211.000000  45211.000000  45211.000000  45211.000000   \n",
       "mean      40.936210    1362.272058     15.806419   2008.444626    258.163080   \n",
       "std       10.618762    3044.765829      8.322476      0.602364    257.527812   \n",
       "min       18.000000   -8019.000000      1.000000   2008.000000      0.000000   \n",
       "25%       33.000000      72.000000      8.000000   2008.000000    103.000000   \n",
       "50%       39.000000     448.000000     16.000000   2008.000000    180.000000   \n",
       "75%       48.000000    1428.000000     21.000000   2009.000000    319.000000   \n",
       "max       95.000000  102127.000000     31.000000   2010.000000   4918.000000   \n",
       "\n",
       "           campaign         pdays      previous  \n",
       "count  45211.000000  45211.000000  45211.000000  \n",
       "mean       2.763841     40.197828      0.580323  \n",
       "std        3.098021    100.128746      2.303441  \n",
       "min        1.000000     -1.000000      0.000000  \n",
       "25%        1.000000     -1.000000      0.000000  \n",
       "50%        2.000000     -1.000000      0.000000  \n",
       "75%        3.000000     -1.000000      0.000000  \n",
       "max       63.000000    871.000000    275.000000  "
      ]
     },
     "execution_count": 5,
     "metadata": {},
     "output_type": "execute_result"
    }
   ],
   "source": [
    "bank.describe()"
   ]
  },
  {
   "cell_type": "markdown",
   "metadata": {},
   "source": [
    "From this, we can see that our data frame has 45,211 rows and 18 columns. Each row contains the details related to one customer. Each column represents a feature or variable of the dataset. We have 17 independent variables and one dependent variable which is called 'y', which represents the outcome of the marketing campaign.\n",
    "\n",
    "Note that the “year” variable was missing in the original dataset. Since the marketing campaign took place from 2008 to 2010, and the dataset is in date order, we can infer the year that final contact occured, and hence manually input the year variable for all contacts. \n",
    "\n",
    "We will now explore the important variables of our dataset."
   ]
  },
  {
   "cell_type": "markdown",
   "metadata": {},
   "source": [
    "#### Output variable - y"
   ]
  },
  {
   "cell_type": "markdown",
   "metadata": {},
   "source": [
    "This is our binary output variable, which tells us whether the campaign resulted in a customer opening a term deposit. From the campaign outcome graph, we can see that the outcome is imbalanced. Of the 45,211 customers contacted, only 11.7% opened a term deposit. \n",
    "\n",
    "Modeling with an imbalanced dataset may be problematic. It is for this reason that when we approach the model creation we must be cautions with regards to what evaluation metric we use. The reason for this is that if we use a basic evaluation technique such as accuracy, even a naive classifier which assumes that every customer will decline to open a term deposit, will score an accuracy of 88.3%."
   ]
  },
  {
   "cell_type": "code",
   "execution_count": 6,
   "metadata": {},
   "outputs": [
    {
     "data": {
      "text/plain": [
       "<matplotlib.text.Text at 0x1529363f710>"
      ]
     },
     "execution_count": 6,
     "metadata": {},
     "output_type": "execute_result"
    },
    {
     "data": {
      "image/png": "[encoded data removed]",
      "text/plain": [
       "<matplotlib.figure.Figure at 0x1528de79860>"
      ]
     },
     "metadata": {},
     "output_type": "display_data"
    }
   ],
   "source": [
    "sns.countplot(x=\"y\", data=bank).set_title('Campaign outcome')"
   ]
  },
  {
   "cell_type": "code",
   "execution_count": 7,
   "metadata": {},
   "outputs": [
    {
     "name": "stdout",
     "output_type": "stream",
     "text": [
      "Proportion yes: 0.117\n",
      "Proportion no: 0.883\n"
     ]
    }
   ],
   "source": [
    "# Proportion of yes/no\n",
    "\n",
    "# we'll start off by counting the total number of people who did and didn't subscribe\n",
    "ycount = bank['y'].value_counts()\n",
    "# we need to count the number of total observations\n",
    "rowcount = bank.shape[0]-1\n",
    "\n",
    "print('Proportion yes: ' + '{0:2.3f}'.format((ycount[1]/rowcount)))\n",
    "print('Proportion no: ' + '{0:2.3f}'.format((ycount[0]/rowcount)))\n",
    "\n",
    "# We'll save the overall proportion of successes as the variable expected, this will help us with our chi squared tests\n",
    "expected = ycount[1]/rowcount"
   ]
  },
  {
   "cell_type": "markdown",
   "metadata": {},
   "source": [
    "#### Age\n",
    "\n",
    "This variable records the age of each customer at the point of contact. A histogram and boxplot is used to visualise the data distribution. The age distribution of the people who opened term deposit accounts, versus those who did not, is shown in the comparative graph. It appears that customers who said no are slightly older that those who said yes."
   ]
  },
  {
   "cell_type": "code",
   "execution_count": 8,
   "metadata": {},
   "outputs": [
    {
     "data": {
      "text/plain": [
       "<matplotlib.text.Text at 0x152940269e8>"
      ]
     },
     "execution_count": 8,
     "metadata": {},
     "output_type": "execute_result"
    },
    {
     "data": {
      "image/png": "[encoded data removed]",
      "text/plain": [
       "<matplotlib.figure.Figure at 0x15293e13908>"
      ]
     },
     "metadata": {},
     "output_type": "display_data"
    }
   ],
   "source": [
    "plt.subplot(1, 3, 1)\n",
    "ageplt = bank.age.plot( kind='hist', bins = 74, figsize=(15,5))\n",
    "plt.xlabel('Age')\n",
    "plt.title('Age distribution')\n",
    "\n",
    "plt.subplot(1, 3, 2)\n",
    "agebox = plt.boxplot(bank.age, 0, 'b')\n",
    "plt.ylabel('Age')\n",
    "plt.title('Overall')\n",
    "\n",
    "\n",
    "plt.subplot(1, 3, 3)\n",
    "agebox2 = sns.boxplot(x=\"y\", y=\"age\", data=bank)\n",
    "agebox2.set(xlabel='outcome')\n",
    "plt.title('Comparative')"
   ]
  },
  {
   "cell_type": "markdown",
   "metadata": {},
   "source": [
    "#### Job\n",
    "\n",
    "It is interesting to analyse variations in the success rate between different occupational groups. While it is hardly surprising to see retirees subscribing to term deposits, other categories yield more surprises, such as the the success rate with blue-collar workers, students, and the unemployed. This is contrasted with the low success rate among managers, whom one would assume has the financial means to hold a diverse investment portfolio, including term deposits. However, it is difficult to deduce the reason for these disparities  from the dataset alone.\n",
    "\n",
    "One issue with the dataset is that there is a group of customers whose jobs are unknown. The success rate amongst customers with unknown occupations is similar to the overall campaign success rate. Since these two success rates  are nearly identical, and since there are so few with unlisted occupations, these customers will be removed when the dataset is cleaned later on to allow for a more accurate predictive model.\n"
   ]
  },
  {
   "cell_type": "code",
   "execution_count": 9,
   "metadata": {},
   "outputs": [
    {
     "data": {
      "image/png": "[encoded data removed]",
      "text/plain": [
       "<matplotlib.figure.Figure at 0x15293f1cac8>"
      ]
     },
     "metadata": {},
     "output_type": "display_data"
    }
   ],
   "source": [
    "# We first graph the job titles and their respective totals\n",
    "x = ['management', 'technician','entrepreneur','blue-collar','retired', 'admin.', 'services', 'self-employed', 'unemployed', 'housemaid', 'student', 'unknown']\n",
    "fig, axes = plt.subplots(figsize=(13, 8))\n",
    "plt.subplot(2, 1, 1)\n",
    "sns.countplot(x=\"job\", data=bank, order=x).set_title('Job title distribution')\n",
    "\n",
    "# We then want to graph the which shows how successful the campaign was with each job category, to do this we first need to build a data frame which shows the proportion of success, grouped by job\n",
    "jobsuccess = bank['job'].loc[bank['y']== 'yes'].value_counts()\n",
    "jobcount = bank['job'].value_counts()\n",
    "X = pd.DataFrame(columns=['Job','Success'])\n",
    "\n",
    "Job=[]\n",
    "Success=[]\n",
    "for item in range(len(jobcount)):\n",
    "    Job.append(jobcount.keys()[item])\n",
    "    Success.append(jobsuccess[item]/jobcount[item])\n",
    "\n",
    "Proportion = {'Job':Job, 'Success':Success}\n",
    "X = pd.DataFrame(Proportion)\n",
    "\n",
    "plt.subplot(2, 1, 2)\n",
    "sns.barplot(x='Job', y='Success', data=X, order=x).set_title('Success rate by job category')\n",
    "plt.tight_layout()"
   ]
  },
  {
   "cell_type": "markdown",
   "metadata": {},
   "source": [
    "#### Month\n",
    "\n",
    "It is interesting to see how dramatic the variation in success rate is between months, especially considering that the  campaign  spanned three years. May had the lowest success rate across the three years, yet most calls were made in May. The months with the least calls made, such December and March, had higher success rates.\n",
    "\n",
    "The modeling section of the capstone project shows that the variation between months has a statistical significance, instead of being due to random noise. Thus, it can be inferred that the Portuguese bank’s campaign could have been more lucrative if they investigated the disparity in success rate between months. A possible reason for the disparity could be that the months relate to when the term deposits come to maturity, thus the high success rate is due to the bank contacting existing subscribers and asking them if they want to roll over the account for another term."
   ]
  },
  {
   "cell_type": "code",
   "execution_count": 10,
   "metadata": {},
   "outputs": [
    {
     "data": {
      "image/png": "[encoded data removed]",
      "text/plain": [
       "<matplotlib.figure.Figure at 0x152943ae240>"
      ]
     },
     "metadata": {},
     "output_type": "display_data"
    }
   ],
   "source": [
    "# Let's look at the success rate, categorised by month\n",
    "# We first graph the Month and their respective totals\n",
    "x = ['jan', 'feb', 'mar', 'apr', 'may', 'jun', 'jul', 'aug', 'sep', 'oct', 'nov', 'dec']\n",
    "fig, axes = plt.subplots(figsize=(13, 8))\n",
    "plt.subplot(2, 1, 1)\n",
    "sns.countplot(x=\"month\", data=bank, order=x).set_title('Month distribution')\n",
    "\n",
    "# We then want to graph the which shows how successful the campaign was by month, to do this we first need to build a data frame which shows the proportion of success, grouped by month\n",
    "monthsuccess = bank['month'].loc[bank['y']== 'yes'].value_counts()\n",
    "monthcount = bank['month'].value_counts()\n",
    "X = pd.DataFrame(columns=['month','Success'])\n",
    "\n",
    "month=[]\n",
    "success=[]\n",
    "for item in range(len(monthcount)):\n",
    "    month.append(monthcount.keys()[item])\n",
    "    success.append(monthsuccess[item]/monthcount[item])\n",
    "\n",
    "Proportion = {'month':month, 'success':success}\n",
    "X = pd.DataFrame(Proportion)\n",
    "\n",
    "plt.subplot(2, 1, 2)\n",
    "sns.barplot(x='month', y='success', data=X, order=x).set_title('Success rate by month')\n",
    "plt.tight_layout()"
   ]
  },
  {
   "cell_type": "markdown",
   "metadata": {},
   "source": [
    "#### Duration\n",
    "\n",
    "The figures below show the distribution of the durations of the final phone call. The Duration distribution graph, shows a strong imbalance in the duration, with most phone calls being fairly short. Since the overall success rate is 11.7%, it can be inferred that unsuccessful calls tend to be shorter than successful ones.\n",
    "\n",
    "The comparative graph confirms this guess. Successful calls tend to be much longer than the unsuccessful calls. This makes intuitive sense, since interested customers will spend more time with the marketer and ask questions about the product. Signing up for the product also takes additional time. This is in comparison to the uninterested customer, who is likely unwilling to spend time on the phone with the marketer.\n",
    "\n",
    "However, this variable is problematic since the length of the final call is only known once the outcome of the call is known, i.e. whether or not the customer opened a term deposit account. This problem arose when the researchers confused causation with correlation, and instead of merely stating that the correlation between the two, they made the recommendation that telemarketers should try to stay on the line for as long as possible with customers to increase the probability of them opening a term deposit. "
   ]
  },
  {
   "cell_type": "code",
   "execution_count": 11,
   "metadata": {},
   "outputs": [
    {
     "data": {
      "text/plain": [
       "<matplotlib.text.Text at 0x15294171278>"
      ]
     },
     "execution_count": 11,
     "metadata": {},
     "output_type": "execute_result"
    },
    {
     "data": {
      "image/png": "[encoded data removed]",
      "text/plain": [
       "<matplotlib.figure.Figure at 0x15293f0b9b0>"
      ]
     },
     "metadata": {},
     "output_type": "display_data"
    }
   ],
   "source": [
    "# Let's look at the duration of the final call\n",
    "plt.subplot(1, 3, 1)\n",
    "durationplt = bank.duration.plot( kind='hist', bins = 74, figsize=(15,5))\n",
    "plt.xlabel('Duration')\n",
    "plt.title('Duration distribution')\n",
    "\n",
    "plt.subplot(1, 3, 2)\n",
    "durationbox = plt.boxplot(bank.duration, 0, 'b')\n",
    "plt.xlabel('Duration')\n",
    "plt.title('Overall')\n",
    "\n",
    "plt.subplot(1, 3, 3)\n",
    "durationbox2 = sns.boxplot(x=\"y\", y=\"duration\", data=bank)\n",
    "durationbox2.set(xlabel='Outcome')\n",
    "durationbox2.set(ylabel='Duration')\n",
    "plt.title('Comparative')"
   ]
  },
  {
   "cell_type": "markdown",
   "metadata": {},
   "source": [
    "#### Balance\n",
    "\n",
    "This is the account balance of the customer in Euros. We can see that on average, customers who subscribe to a term deposit have a larger account compared to the customers who do not. This is not surprising. However, the low account balance of both groups is surprising; even the group that subscribed had, on average, less than 1,000 Euros. It is important to note that this is not a measure of the total networth of the customers, as they likely have other assets.\n",
    "\n",
    "There is a large spread of account balances, ranging from those with small negative balances to those with over 100,000 Euros. Despite these extremes being outliers, the balances are still reasonable, thus they are untouched when the dataset is cleaned "
   ]
  },
  {
   "cell_type": "code",
   "execution_count": 12,
   "metadata": {},
   "outputs": [
    {
     "data": {
      "text/plain": [
       "<matplotlib.text.Text at 0x15294b767b8>"
      ]
     },
     "execution_count": 12,
     "metadata": {},
     "output_type": "execute_result"
    },
    {
     "data": {
      "image/png": "[encoded data removed]",
      "text/plain": [
       "<matplotlib.figure.Figure at 0x1529491bbe0>"
      ]
     },
     "metadata": {},
     "output_type": "display_data"
    }
   ],
   "source": [
    "plt.subplot(1, 3, 1)\n",
    "balanceplt = bank.balance.plot( kind='hist', bins = 20, figsize=(15,5))\n",
    "plt.xlabel('Balance')\n",
    "balanceplt.set_yscale('log')\n",
    "plt.title('Balance distribution')\n",
    "\n",
    "plt.subplot(1, 3, 2)\n",
    "balancebox = plt.boxplot(bank.balance, 0, 'b')\n",
    "plt.xlabel('Balance')\n",
    "plt.title('Overall')\n",
    "\n",
    "plt.subplot(1, 3, 3)\n",
    "balancebox2 = sns.boxplot(x=\"y\", y=\"balance\", data=bank)\n",
    "balancebox2.set(xlabel='Balance')\n",
    "plt.yscale('log')\n",
    "plt.title('Comparative')"
   ]
  },
  {
   "cell_type": "markdown",
   "metadata": {},
   "source": [
    "#### Pdays\n",
    "\n",
    "This variable records the number of days that passed after a customer was last contacted from a previous campaign. The comparative boxplot on the right shows that customers who were previously contacted are more likely to open an account.\n",
    "\n",
    "It also shows that  there are many outliers in the dataset However, since the campaign was conducted over a three year period, a pdays value of just under 900 is plausible, thus these outliers are not removed  in the data cleaning.\n",
    "\n",
    "Majority of customers in the dataset were not contacted in a previous campaign, and a placeholder of -1 days is used to signify that the customer was not previously contacted. Since there are too many customers who were not contacted, it is not feasible to remove them. The most sensible way of dealing with these missing values is to keep the placeholder of -1."
   ]
  },
  {
   "cell_type": "code",
   "execution_count": 13,
   "metadata": {},
   "outputs": [
    {
     "data": {
      "text/plain": [
       "<matplotlib.text.Text at 0x152957bb048>"
      ]
     },
     "execution_count": 13,
     "metadata": {},
     "output_type": "execute_result"
    },
    {
     "data": {
      "image/png": "[encoded data removed]",
      "text/plain": [
       "<matplotlib.figure.Figure at 0x1529499b898>"
      ]
     },
     "metadata": {},
     "output_type": "display_data"
    }
   ],
   "source": [
    "# Pdays - , note -1 means not previously contacted\n",
    "\n",
    "plt.subplot(1, 3, 1)\n",
    "pdaysplt = bank.pdays.plot( kind='hist', bins = 20, figsize=(15,5))\n",
    "plt.xlabel('Pdays')\n",
    "plt.title('Pdays distribution')\n",
    "\n",
    "plt.subplot(1, 3, 2)\n",
    "pdaysbox = plt.boxplot(bank.pdays, 0, 'b')\n",
    "plt.xlabel('Pdays')\n",
    "plt.title('Overall')\n",
    "\n",
    "plt.subplot(1, 3, 3)\n",
    "pdaysbox2 = sns.boxplot(x=\"y\", y=\"pdays\", data=bank)\n",
    "pdaysbox2.set(xlabel='outcome')\n",
    "plt.title('Comparative')"
   ]
  },
  {
   "cell_type": "markdown",
   "metadata": {},
   "source": [
    "#### Education\n",
    "\n",
    "The education variable records the highest level of education attained by each customer. Two interesting patterns can be observed. Firstly, the success rate by education level graph shows that as the level of education of the customer increases, so too does the likelihood that the customer will open a term deposit. Secondly, it shows that customers who did not provide their education level have the second highest success rate. Since the rate at which they open accounts is about 2% above the global mean of 11.7%, it is statistically significant. Thus, it is best to treat the unknown variable as a legitimate fourth category."
   ]
  },
  {
   "cell_type": "code",
   "execution_count": 14,
   "metadata": {},
   "outputs": [
    {
     "data": {
      "image/png": "[encoded data removed]",
      "text/plain": [
       "<matplotlib.figure.Figure at 0x1529573a588>"
      ]
     },
     "metadata": {},
     "output_type": "display_data"
    }
   ],
   "source": [
    "# We first graph the education level and their respective totals\n",
    "x = ['primary','secondary' ,'tertiary' , 'unknown']\n",
    "fig, axes = plt.subplots(figsize=(13, 8))\n",
    "plt.subplot(2, 1, 1)\n",
    "sns.countplot(x=\"education\", data=bank, order=x).set_title('Education distribution')\n",
    "\n",
    "# We then want to graph the which shows how successful the campaign was with each education level, to do this we first need to build a data frame which shows the proportion of success, grouped education level\n",
    "educationsuccess = bank['education'].loc[bank['y']== 'yes'].value_counts()\n",
    "educationcount = bank['education'].value_counts()\n",
    "X = pd.DataFrame(columns=['education','Success'])\n",
    "\n",
    "education=[]\n",
    "success=[]\n",
    "for item in range(len(educationcount)):\n",
    "    education.append(educationcount.keys()[item])\n",
    "    success.append(educationsuccess[item]/educationcount[item])\n",
    "\n",
    "Proportion = {'education':education, 'success':success}\n",
    "X = pd.DataFrame(Proportion)\n",
    "\n",
    "plt.subplot(2, 1, 2)\n",
    "sns.barplot(x='education', y='success', data=X, order=x).set_title('Success rate by education level')\n",
    "plt.tight_layout()"
   ]
  },
  {
   "cell_type": "markdown",
   "metadata": {},
   "source": [
    "## Data preparation\n",
    "\n",
    "To clean the data set we will:\n",
    "\n",
    "- Rows with unknown jobs were removed, as discussed above, since the success rate of the group is almost the same as the whole dataset, and since these were only 288 rows. \n",
    "- Categorical data is encoded using a label encoder. The month values were mapped using kept pair values, since the order of the labels matters.  A label encoder is used for the rest of the categorical variables."
   ]
  },
  {
   "cell_type": "code",
   "execution_count": 7,
   "metadata": {
    "collapsed": true
   },
   "outputs": [],
   "source": [
    "# We drop the 288 rows where the job is unknown\n",
    "bank = bank.drop(bank[bank.job=='unknown'].index)"
   ]
  },
  {
   "cell_type": "code",
   "execution_count": 8,
   "metadata": {
    "collapsed": true
   },
   "outputs": [],
   "source": [
    "# Map function to convert the months to numeric\n",
    "bank['month'] =bank['month'].map({\n",
    "    'jan': 1,\n",
    "    'feb': 2,\n",
    "    'mar': 3,\n",
    "    'apr': 4,\n",
    "    'may': 5,\n",
    "    'jun': 6,\n",
    "    'jul': 7,\n",
    "    'aug': 8,\n",
    "    'sep': 9,\n",
    "    'oct': 10,\n",
    "    'nov': 11,\n",
    "    'dec': 12\n",
    "    })"
   ]
  },
  {
   "cell_type": "code",
   "execution_count": 9,
   "metadata": {
    "collapsed": true
   },
   "outputs": [],
   "source": [
    "# We then initalise the label encoder and use it to encode the rest of our catgorical variables\n",
    "lb_make = LabelEncoder()\n",
    "\n",
    "categories = ['job', 'marital', 'education', 'default', 'housing', 'loan', 'contact', 'poutcome', 'y']\n",
    "for col in categories: \n",
    "    bank[str(col)+\"_code\"] = lb_make.fit_transform(bank[col])    "
   ]
  },
  {
   "cell_type": "markdown",
   "metadata": {},
   "source": [
    "Until now, data scientists modeling this dataset have used a feature numbering the day of the month (e.g. 13) and the month (e.g. June) separately. Looking at previous research, it appears that these features are statistically significant. However, the problem with the current approach is that it misses the bigger picture. The dataset represents a marketing campaign which was conducted over a three year period. Thus, it is naive to treat days and months as if they were homogenous, e.g. to say that the 5th of July 2008 is equivalent to 5th of July 2010. Social and economic factors  affect the consumers’ behaviour, and since these factors are constantly changing, it makes sense to add a date variable which combines the day of the month, the month, and the year e.g. 5 June 2009.\n",
    "\n",
    "Another factor which had a large effect on the performance of the model was the addition of a feature which captured the difference between the Portuguese Consumer Price Index and the Portuguese three-month term deposit rate. The rationale behind this feature is that customers are rational, hence, rather than looking at the nominal rate (i.e. the term deposit rate), they are concerned with the real rate of return, which is the difference between the term deposit rate and the CPI.\n",
    "\n",
    "The final three features included are the level of unemployment, CPI, and the change in the monthly unemployment rate between the current and previous month. These features lead to modest improvements in the model’s performance.\n",
    "The data for these dates have been stored in a file called features. It was uploaded as a data frame and merged with the bank data frame."
   ]
  },
  {
   "cell_type": "code",
   "execution_count": 10,
   "metadata": {
    "collapsed": true
   },
   "outputs": [],
   "source": [
    "# Create date feature using the format DDMMYYYY\n",
    "bank['date'] = (bank['day']*1000000)+(bank['month']*10000)+bank['year']\n",
    "\n",
    "# Create a 'features' column so that we have a common colum to merge our dataframes\n",
    "bank['features'] = (bank['month']*10000)+bank['year']"
   ]
  },
  {
   "cell_type": "code",
   "execution_count": 11,
   "metadata": {
    "collapsed": true
   },
   "outputs": [],
   "source": [
    "# Load features into a data frame\n",
    "features = pd.read_csv('features.csv', delimiter=',')"
   ]
  },
  {
   "cell_type": "code",
   "execution_count": 12,
   "metadata": {
    "collapsed": true
   },
   "outputs": [],
   "source": [
    "# Merge on the common variable \n",
    "bank2 = pd.merge(bank, features, on=\"features\")"
   ]
  },
  {
   "cell_type": "code",
   "execution_count": 13,
   "metadata": {
    "collapsed": true
   },
   "outputs": [],
   "source": [
    "# Drop redundant columns and split into input and output variables\n",
    "X = bank2.drop(['y_code', 'job', 'marital', 'education', 'default', 'housing', 'loan', 'contact', 'poutcome', 'y', 'month', 'day', 'year', 'features'],axis=1)\n",
    "y = bank2['y_code']"
   ]
  },
  {
   "cell_type": "markdown",
   "metadata": {},
   "source": [
    "## Model creation"
   ]
  },
  {
   "cell_type": "markdown",
   "metadata": {},
   "source": [
    "Although some may treat this dataset as if it were a classification problem, we treat it as more of a predictive one. This does not imply the prediction of whether or not someone will open a term deposit account, but rather the modelling of how probable each customer is to open a term deposit account. \n",
    "\n",
    "The outcome in this problem is binomial, and we are attempting to construct a probability distribution for each category of outcome. As such, the area under the receiver operator curve (AUC) is the optimal choice as an evaluation metric since the closer the AUC to 1 is, the better the distributions are separated. This means that our model is more effective at differentiating those who will open an account and those who will not. \n",
    "\n",
    "Previous research on this dataset utilise the AUC as their evaluation metric, they were able to achieve an AUC score of 0.938. \n"
   ]
  },
  {
   "cell_type": "code",
   "execution_count": 14,
   "metadata": {
    "collapsed": true
   },
   "outputs": [],
   "source": [
    "# We define a function which will allow us to time how long it takes to run our functions\n",
    "def tic():\n",
    "    #Homemade version of matlab tic and toc functions\n",
    "    import time\n",
    "    global startTime_for_tictoc\n",
    "    startTime_for_tictoc = time.time()\n",
    "\n",
    "def toc():\n",
    "    import time\n",
    "    if 'startTime_for_tictoc' in globals():\n",
    "        print(\"Elapsed time is \" + str(time.time() - startTime_for_tictoc) + \" seconds.\")\n",
    "    else:\n",
    "        print(\"Toc: start time not set\")"
   ]
  },
  {
   "cell_type": "code",
   "execution_count": 15,
   "metadata": {},
   "outputs": [],
   "source": [
    "# We then split the data into a training and testing set and train the decision tree \n",
    "X_train, X_test, y_train, y_test = train_test_split(X, y, test_size=0.2)"
   ]
  },
  {
   "cell_type": "markdown",
   "metadata": {},
   "source": [
    "#### Decision tree"
   ]
  },
  {
   "cell_type": "code",
   "execution_count": 16,
   "metadata": {},
   "outputs": [
    {
     "name": "stdout",
     "output_type": "stream",
     "text": [
      "AUC: 0.727099462238\n",
      "Elapsed time is 0.2832777500152588 seconds.\n"
     ]
    }
   ],
   "source": [
    "tic()\n",
    "dtree = DecisionTreeClassifier()\n",
    "dtree.fit(X_train,y_train)\n",
    "predictions = dtree.predict(X_test)\n",
    "print('AUC: ' + str(roc_auc_score(y_test, predictions)))\n",
    "toc()"
   ]
  },
  {
   "cell_type": "markdown",
   "metadata": {},
   "source": [
    "The AUC score is certainly better than a random guess, which would give a score of 0.5. Perhaps using a collection of decision trees will be able to yield better performance."
   ]
  },
  {
   "cell_type": "markdown",
   "metadata": {},
   "source": [
    "#### XGBoost"
   ]
  },
  {
   "cell_type": "markdown",
   "metadata": {},
   "source": [
    "XGBoost, which is short for extreme gradient boosting uses a collection of weak learners to build a predictive model. A good analogy to explain how this process works would be to imagine a collection of decision trees voting on how probable a customer is of opening a term deposit account. Although each decision tree may only be slightly better than a random guess, a whole collection of trees may do a great job or predicting the outcome.\n",
    "\n",
    "As we build this collection of trees, the model will start to perform better in some areas of the dataset, but weaker in others. To combat this, the model uses boosting. Essentially what boosting does is that it trains a new decision tree on the areas which the model performs weakest in. So after every round of boosting a new tree is added, which hopefully improves the overall accuracy of the model."
   ]
  },
  {
   "cell_type": "code",
   "execution_count": 49,
   "metadata": {
    "collapsed": true
   },
   "outputs": [],
   "source": [
    "bank_dmatrix = xgb.DMatrix(data=X_train, label=y_train)"
   ]
  },
  {
   "cell_type": "code",
   "execution_count": 28,
   "metadata": {},
   "outputs": [
    {
     "name": "stdout",
     "output_type": "stream",
     "text": [
      "   test-auc-mean  test-auc-std  train-auc-mean  train-auc-std\n",
      "9       0.941966      0.004491        0.958663       0.001011\n",
      "Elapsed time is 0.9511640071868896 seconds.\n"
     ]
    }
   ],
   "source": [
    "# Create the parameter dictionary for each tree (boosting round)\n",
    "params = {\"objective\":\"reg:logistic\"}\n",
    "    \n",
    "# Perform cross-validation: cv_results\n",
    "tic()\n",
    "cv_results = xgb.cv(dtrain=bank_dmatrix, params=params, metrics=\"auc\", as_pandas=True)\n",
    "print(cv_results[-1:])\n",
    "toc()"
   ]
  },
  {
   "cell_type": "markdown",
   "metadata": {},
   "source": [
    "Even without any parameter tuning we can already see that our XGBoost performs better than our other previously tested models. After only 10 rounds of boosting, we have an AUC for our test data of 0.942628. This is already on better than what previous research was able to achieve, this high score is largely due to the feature engineering which we did in the previous section.\n",
    "\n",
    "Let's do some parameter tuning to see if we can further improve our model. We'll start off with a gridsearch to find the optimal parameters for our model."
   ]
  },
  {
   "cell_type": "code",
   "execution_count": 30,
   "metadata": {},
   "outputs": [
    {
     "data": {
      "text/plain": [
       "({'colsample_bytree': 0.95,\n",
       "  'learning_rate': 0.078,\n",
       "  'max_depth': 5,\n",
       "  'subsample': 0.91},\n",
       " 0.94582294466593808)"
      ]
     },
     "execution_count": 30,
     "metadata": {},
     "output_type": "execute_result"
    }
   ],
   "source": [
    "param_test1 = {\n",
    "    'max_depth':[5, 7],\n",
    "    'learning_rate':[0.078, 0.1],\n",
    "    'subsample':[0.91, 1], \n",
    "    'colsample_bytree':[0.95, 1],\n",
    "}\n",
    "gsearch1 = GridSearchCV(estimator = xgb.XGBClassifier(n_estimators=260, objective= 'reg:logistic', nthread=4, seed=27), \n",
    "param_grid = param_test1, scoring='roc_auc', n_jobs=4, iid=False, cv=15)\n",
    "gsearch1.fit(X_train,y_train)\n",
    "#gsearch1.grid_scores_, gsearch1.best_params_, gsearch1.best_score_\n",
    "gsearch1.best_params_, gsearch1.best_score_"
   ]
  },
  {
   "cell_type": "markdown",
   "metadata": {},
   "source": [
    "Now that the optimal parameters have been found, cross validation is performed to check the accuracy of our model. The test is specified to stop running if the test AUC does not improve after 50 rounds. The number of folds used in the cross validation is also specified to be 15 folds in this case. "
   ]
  },
  {
   "cell_type": "code",
   "execution_count": 50,
   "metadata": {},
   "outputs": [
    {
     "name": "stdout",
     "output_type": "stream",
     "text": [
      "     test-auc-mean  test-auc-std  train-auc-mean  train-auc-std\n",
      "0         0.890342      0.012895        0.894953       0.003149\n",
      "1         0.912985      0.014125        0.915873       0.006724\n",
      "2         0.917812      0.013634        0.922092       0.005506\n",
      "3         0.920945      0.013748        0.925962       0.006425\n",
      "4         0.925290      0.011875        0.930459       0.005326\n",
      "5         0.927185      0.011563        0.932127       0.003635\n",
      "6         0.928833      0.008197        0.933425       0.002441\n",
      "7         0.930158      0.008091        0.934721       0.002404\n",
      "8         0.931178      0.008518        0.935880       0.002787\n",
      "9         0.932330      0.008142        0.936956       0.002518\n",
      "10        0.933278      0.007871        0.938251       0.002103\n",
      "11        0.933660      0.007927        0.938847       0.002068\n",
      "12        0.934639      0.007257        0.939502       0.002119\n",
      "13        0.935356      0.007273        0.940313       0.001885\n",
      "14        0.935790      0.006945        0.940984       0.001844\n",
      "15        0.936324      0.006924        0.941992       0.001698\n",
      "16        0.936825      0.006904        0.942591       0.001639\n",
      "17        0.937773      0.006702        0.943449       0.001484\n",
      "18        0.938956      0.006187        0.944401       0.001106\n",
      "19        0.939254      0.006301        0.944920       0.000711\n",
      "20        0.939567      0.006261        0.945238       0.000705\n",
      "21        0.939871      0.006186        0.945581       0.000689\n",
      "22        0.940256      0.006070        0.945904       0.000614\n",
      "23        0.940602      0.006012        0.946249       0.000586\n",
      "24        0.940866      0.005856        0.946554       0.000572\n",
      "25        0.940898      0.005844        0.946797       0.000578\n",
      "26        0.941112      0.005748        0.947076       0.000603\n",
      "27        0.941267      0.005676        0.947380       0.000555\n",
      "28        0.941398      0.005530        0.947605       0.000569\n",
      "29        0.941641      0.005490        0.947914       0.000537\n",
      "..             ...           ...             ...            ...\n",
      "223       0.947662      0.003750        0.970295       0.000345\n",
      "224       0.947663      0.003724        0.970365       0.000350\n",
      "225       0.947676      0.003728        0.970422       0.000349\n",
      "226       0.947676      0.003720        0.970484       0.000353\n",
      "227       0.947672      0.003734        0.970547       0.000361\n",
      "228       0.947666      0.003728        0.970607       0.000369\n",
      "229       0.947659      0.003747        0.970673       0.000365\n",
      "230       0.947648      0.003748        0.970753       0.000357\n",
      "231       0.947658      0.003735        0.970813       0.000349\n",
      "232       0.947638      0.003730        0.970885       0.000339\n",
      "233       0.947614      0.003725        0.970945       0.000342\n",
      "234       0.947628      0.003732        0.971015       0.000335\n",
      "235       0.947622      0.003730        0.971094       0.000323\n",
      "236       0.947625      0.003734        0.971163       0.000318\n",
      "237       0.947650      0.003741        0.971235       0.000319\n",
      "238       0.947656      0.003748        0.971291       0.000315\n",
      "239       0.947662      0.003731        0.971356       0.000320\n",
      "240       0.947670      0.003734        0.971410       0.000330\n",
      "241       0.947674      0.003711        0.971481       0.000325\n",
      "242       0.947659      0.003711        0.971562       0.000328\n",
      "243       0.947642      0.003718        0.971628       0.000329\n",
      "244       0.947641      0.003712        0.971692       0.000317\n",
      "245       0.947660      0.003715        0.971754       0.000310\n",
      "246       0.947658      0.003720        0.971825       0.000316\n",
      "247       0.947651      0.003693        0.971883       0.000329\n",
      "248       0.947622      0.003688        0.971956       0.000320\n",
      "249       0.947611      0.003698        0.972017       0.000324\n",
      "250       0.947602      0.003710        0.972075       0.000322\n",
      "251       0.947609      0.003738        0.972151       0.000332\n",
      "252       0.947618      0.003743        0.972211       0.000319\n",
      "\n",
      "[253 rows x 4 columns]\n",
      "Elapsed time is 95.75360441207886 seconds.\n"
     ]
    }
   ],
   "source": [
    "# Create the parameter dictionary for each tree (boosting round)\n",
    "params = {\"objective\":\"reg:logistic\", \"max_depth\":5, \"learning_rate\":0.078, \"subsample\":0.91, \"colsample_bytree\":0.95}\n",
    "\n",
    "# Perform cross-validation: cv_results\n",
    "tic()\n",
    "cv_results = xgb.cv(dtrain=bank_dmatrix, params=params, num_boost_round=253, as_pandas=True, metrics='auc', nfold=15, seed=27)\n",
    "print(cv_results)\n",
    "toc()"
   ]
  },
  {
   "cell_type": "markdown",
   "metadata": {},
   "source": [
    "After 252 rounds of boosting, a training AUC of 0.947618 is achieved. Note that the AUC score has improved between the grid search and the cross validation, the reason for this is the early stopping parameter, as the model increases in complexity it starts overfitting the training data and the AUC score for the testing set starts to decrease."
   ]
  },
  {
   "cell_type": "markdown",
   "metadata": {},
   "source": [
    "A model of how the accuracy of our model improves as the amount of trees increases shall then be constructed. As the model’s complexity grows, so too does its accuracy. However, there are diminishing returns. At around 200-round mark, each additional round begins to do little to improve the model accuracy."
   ]
  },
  {
   "cell_type": "code",
   "execution_count": 53,
   "metadata": {
    "collapsed": true
   },
   "outputs": [],
   "source": [
    "# Create the parameter dictionary for each tree (boosting round)\n",
    "params = {\"objective\":\"reg:logistic\", \"max_depth\":5, \"learning_rate\":0.078, \"subsample\":0.91, \"colsample_bytree\":0.95}\n",
    "\n",
    "# Perform cross-validation: cv_results\n",
    "cv_results = xgb.cv(dtrain=bank_dmatrix, params=params, num_boost_round=400, as_pandas=True, metrics='auc', nfold=15, seed=27)\n",
    "results = pd.DataFrame(cv_results)\n",
    "results['round'] = range(1, len(results) + 1)"
   ]
  },
  {
   "cell_type": "code",
   "execution_count": 54,
   "metadata": {},
   "outputs": [
    {
     "data": {
      "text/plain": [
       "<matplotlib.text.Text at 0x15294e53a58>"
      ]
     },
     "execution_count": 54,
     "metadata": {},
     "output_type": "execute_result"
    },
    {
     "data": {
      "image/png": "[encoded data removed]",
      "text/plain": [
       "<matplotlib.figure.Figure at 0x152933d0f98>"
      ]
     },
     "metadata": {},
     "output_type": "display_data"
    }
   ],
   "source": [
    "plt.scatter(results['round'], results['test-auc-mean'])\n",
    "plt.xlabel('Number of boosting rounds')\n",
    "plt.ylabel('AUC')\n",
    "plt.title('Boosting rounds vs AUC')"
   ]
  },
  {
   "cell_type": "markdown",
   "metadata": {},
   "source": [
    "We will now look at how the size of the training dataset affects the accuracy of our model.  As the amount of data fed to the model increases, so too does the model accuracy, However, once again there are diminishing returns."
   ]
  },
  {
   "cell_type": "code",
   "execution_count": 34,
   "metadata": {
    "collapsed": true
   },
   "outputs": [],
   "source": [
    "# Let's look at how the size of the training data affects the AUC\n",
    "data_sizes =  (0.995, 0.99, 0.9, 0.8, 0.7, 0.6, 0.5, 0.4, 0.3, 0.2, 0.1, 0)\n",
    "llst = []\n",
    "\n",
    "def training_size():\n",
    "    for sample in data_sizes:\n",
    "        X_train, X_test, y_train, y_test = train_test_split(X, y, test_size=sample)\n",
    "        bank_dmatrix = xgb.DMatrix(data=X_train, label=y_train)\n",
    "        cv_results = xgb.cv(dtrain=bank_dmatrix, params=params, nfold=5, num_boost_round=400, as_pandas=True, metrics='auc')\n",
    "        llst.append({'Size': ((1-sample)*len(X)), 'AUC': cv_results[\"test-auc-mean\"][399]})\n",
    "    return llst"
   ]
  },
  {
   "cell_type": "code",
   "execution_count": 35,
   "metadata": {},
   "outputs": [
    {
     "data": {
      "text/plain": [
       "<matplotlib.text.Text at 0x152943e11d0>"
      ]
     },
     "execution_count": 35,
     "metadata": {},
     "output_type": "execute_result"
    },
    {
     "data": {
      "image/png": "[encoded data removed]",
      "text/plain": [
       "<matplotlib.figure.Figure at 0x152948fa518>"
      ]
     },
     "metadata": {},
     "output_type": "display_data"
    }
   ],
   "source": [
    "scores = pd.DataFrame(training_size())\n",
    "plt.scatter(scores.Size, scores.AUC)\n",
    "plt.xlabel('Number of customers')\n",
    "plt.ylabel('AUC')\n",
    "plt.title('Number of customers vs AUC')"
   ]
  },
  {
   "cell_type": "markdown",
   "metadata": {},
   "source": [
    "We now create a graph to show feature importance. From it we can see that duration is the most important feature for predicting outcome. \n",
    "\n",
    "It can also be seen that some of the variable created in the feature engineering section are quite predictive. 2 out of the top 5 variables were created by us, and the date is the most important out of the two. This interestingly shows that there is more to marketing than targeting the right customer. Instead, it is the combination of contacting the right customer at the right time. Although this may seem obvious to many, the feature importance graph quantifies just exactly how important it is. "
   ]
  },
  {
   "cell_type": "code",
   "execution_count": 36,
   "metadata": {},
   "outputs": [
    {
     "data": {
      "image/png": "[encoded data removed]",
      "text/plain": [
       "<matplotlib.figure.Figure at 0x15294436ef0>"
      ]
     },
     "metadata": {},
     "output_type": "display_data"
    }
   ],
   "source": [
    "model = xgb.train(params=params, dtrain=bank_dmatrix, num_boost_round=210)\n",
    "xgb.plot_importance(model, xlabel='Feature importance score',)\n",
    "plt.show()"
   ]
  },
  {
   "cell_type": "markdown",
   "metadata": {},
   "source": [
    "## Predictive Evaluation\n",
    "\n",
    "In the previous section, we were able to create a model which had an excellent AUC score at 0.946354. It was approximately 0.8% better than the 0.938 obtained by previous researchers. However, it must be noted that one of the features which both I and the original researchers use in our models has no predictive power, and that is the duration variable. The reason it has no predictive power is because the duration of the final call can not be known until after the final call has been made. Two of the original researchers addressed it when they wrote their follow up paper in 2014. In the paper, they created a Neural Network, and without the duration variable they were able get an AUC score on 0.80. We will now drop the duration variable and re-evaluate our AUC.\n",
    "\n",
    "The 2014 follow up paper can be found at:\n",
    "\n",
    "http://media.salford-systems.com/video/tutorial/2015/targeted_marketing.pdf"
   ]
  },
  {
   "cell_type": "code",
   "execution_count": 59,
   "metadata": {
    "collapsed": true
   },
   "outputs": [],
   "source": [
    "#X_train = X_train.drop(['duration'],axis=1)\n",
    "X_test = X_test.drop(['duration'],axis=1)"
   ]
  },
  {
   "cell_type": "code",
   "execution_count": 56,
   "metadata": {
    "collapsed": true
   },
   "outputs": [],
   "source": [
    "bank_dmatrix = xgb.DMatrix(data=X_train, label=y_train)"
   ]
  },
  {
   "cell_type": "code",
   "execution_count": 57,
   "metadata": {},
   "outputs": [
    {
     "name": "stdout",
     "output_type": "stream",
     "text": [
      "     test-auc-mean  test-auc-std  train-auc-mean  train-auc-std\n",
      "199       0.817163      0.013507        0.878849       0.001237\n"
     ]
    }
   ],
   "source": [
    "cv_results = xgb.cv(dtrain=bank_dmatrix, params=params, num_boost_round=200, as_pandas=True, metrics='auc', nfold=15, early_stopping_rounds=50, seed=27)\n",
    "print(cv_results[-1:])"
   ]
  },
  {
   "cell_type": "markdown",
   "metadata": {},
   "source": [
    "To further evaluate the model which I have created, I will fit the model to the testing data and predict the probability of each customer in the training set signing up for a term deposit. The results of the predictions will measured by comparing how much revenue would be generated by calling a given percentage of the training set (ranked by the predicted probability of them opening an account)."
   ]
  },
  {
   "cell_type": "code",
   "execution_count": 69,
   "metadata": {},
   "outputs": [
    {
     "name": "stdout",
     "output_type": "stream",
     "text": [
      "Elapsed time is 3.178276777267456 seconds.\n"
     ]
    }
   ],
   "source": [
    "# We fit the model to our origional training set\n",
    "tic()\n",
    "xg_cl = xgb.XGBClassifier(objective=\"reg:logistic\", n_estimators=200, learning_rate=0.078, subsample=0.91, colsample_bytree=0.95, max_depth=5, seed=27)\n",
    "xg_cl.fit(X_train, y_train)\n",
    "preds = xg_cl.predict_proba(X_test)\n",
    "toc()"
   ]
  },
  {
   "cell_type": "code",
   "execution_count": 70,
   "metadata": {
    "collapsed": true
   },
   "outputs": [],
   "source": [
    "preds = pd.DataFrame(preds)\n",
    "y_test = pd.DataFrame(y_test)\n",
    "preds['number'] = range(1, len(preds) + 1)\n",
    "y_test['number'] = range(1, len(y_test) + 1)\n",
    "result = pd.merge(preds, y_test, on=\"number\")"
   ]
  },
  {
   "cell_type": "code",
   "execution_count": 71,
   "metadata": {
    "collapsed": true
   },
   "outputs": [],
   "source": [
    "result = result.sort_values(by=[1], ascending=False)\n",
    "result['number'] = range(1, len(y_test) + 1)"
   ]
  },
  {
   "cell_type": "code",
   "execution_count": 72,
   "metadata": {
    "collapsed": true
   },
   "outputs": [],
   "source": [
    "total_yes = result['y_code'].sum()\n",
    "recall = []\n",
    "calls = []\n",
    "\n",
    "for x in range(len(result)):\n",
    "    rec = result['y_code'][:x].sum()/total_yes\n",
    "    called = x/len(result)\n",
    "    recall.append(rec)\n",
    "    calls.append(called)\n",
    "    \n",
    "result['recall'] = recall\n",
    "result['called'] = calls\n",
    "result.to_csv(\"results.csv\")"
   ]
  },
  {
   "cell_type": "code",
   "execution_count": 73,
   "metadata": {},
   "outputs": [
    {
     "data": {
      "image/png": "[encoded data removed]",
      "text/plain": [
       "<matplotlib.figure.Figure at 0x15296ddbe80>"
      ]
     },
     "metadata": {},
     "output_type": "display_data"
    }
   ],
   "source": [
    "plt.scatter(result['called']*100, result['recall']*100, s=1)\n",
    "plt.xlabel('Total customers called (%)')\n",
    "plt.ylabel('Accounts opened (%)')\n",
    "plt.title('Customers called vs accounts opened')\n",
    "plt.figsize=(15,15)"
   ]
  },
  {
   "cell_type": "markdown",
   "metadata": {},
   "source": [
    "From the Customers called vs revenue graph, it can be seen that if the customers in the training set were to be ranked according to how likely they are predicted to open a term deposit, there would be a trade-off between the amount of people we call and the percentage of the total term deposit accounts which could have been opened. For example, by calling only 20% of the customers in the training set, we would get approximately 65% of the total account openings (had we contacted all the customers). \n",
    "\n",
    "We can see that the model does a good job of predicting the probability that a customer will open an account, however the difficulty of this problem is that if we wish to capture all of the potential customers who would have opened an account, we need to contact almost all of the customers on our list. For example, if the bottom half of our ranked customers only have a 2% probability of opening an account, by not calling them we would have missed out on 90 term deposits being opened (note that we have 8986 customers in our training set). Thus we can see that there is a tradeoff between between calling every customer and capturing every possible sale, and calling only those customers who you predict have a high likelihood of opening a term deposit. The former would lead to the maximum possible revenue, the latter would lead to a much higher ROI. \n",
    "\n",
    "It is for this reason that we modeled this data set as a predictive problem as opposed to a classification problem. Since classification would require a threshold above which we call the customers to be set, in essence we are forced to make a choice between maximising revenue and maximising ROI, I feel that deciding which threshold value to use is a management question rather than a data science question."
   ]
  },
  {
   "cell_type": "markdown",
   "metadata": {},
   "source": [
    "## Insights and conclusion\n",
    "\n",
    "From the results of our model evaluation, we can see just how powerful gradient boosted trees are. Not only are they very easy to build and tune, but they have excellent performance even when compared to more complex models such as neural networks. Their simplicity and ease of training means that they can be built and retrained as and when new data is available, opening up the possibility of continuously retraining our model during a marketing campaign to continuously improve its performance. We showed in the model creation section how quickly the model’s accuracy improves as we feed it more data.\n",
    "\n",
    "In our evaluation section, we were able to visualise the trade-off between campaign size and revenue. By using our model, we are able to rank customers in order of how likely they are to open an account, and thus predict the campaign’s ROI and overall return. This empowers managers as it allows them to run campaigns inline with their budgetary constraints.\n",
    "\n",
    "We also saw how important it was to optimise the timing of our calls. Although this isn't an area which we explored in great detail, we saw how the addition of date and economic features during our feature engineering allowed us to build a model whose accuracy exceeded models previously made by researchers. This is definitely an area which warrants further research, as there is no doubt that there are other variables which could further improve the accuracy of or model, thus allowing for more efficient marketing campaigns.\n",
    "\n",
    "We saw the importance of the duration variable in our model. Personally I feel that this feature shows the importance of the relationship between the marketer and the customer. Although we wouldn’t be able to use the duration variable in a production model (since we won’t know the length of the final call until after the final call). We need to further explore the relationship between individual marketers and the customers they call. I feel that this is an area which would warrant further research. "
   ]
  }
 ],
 "metadata": {
  "kernelspec": {
   "display_name": "Python 3",
   "language": "python",
   "name": "python3"
  },
  "language_info": {
   "codemirror_mode": {
    "name": "ipython",
    "version": 3
   },
   "file_extension": ".py",
   "mimetype": "text/x-python",
   "name": "python",
   "nbconvert_exporter": "python",
   "pygments_lexer": "ipython3",
   "version": "3.6.1"
  }
 },
 "nbformat": 4,
 "nbformat_minor": 2
}
