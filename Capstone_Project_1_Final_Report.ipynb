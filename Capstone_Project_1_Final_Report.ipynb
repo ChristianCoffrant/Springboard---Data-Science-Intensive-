{
 "cells": [
  {
   "cell_type": "markdown",
   "metadata": {},
   "source": [
    "# Capstone Project 1 - Final Report\n",
    "\n",
    "## Introduction\n",
    "\n",
    "In 2008 a Portugese bank began a marketing campaign to it's clients. Over the next three years clients were contacted and asked if they wanted to open a term deposit. The results of this capmaign was analysed in the research paper titled 'Using Data Mining for Bank Direct Marketing: An Application of the CRISP-DM Methedology', they developed a model which could predict whether or not a client would open a term deposit. On the basis of this model they gained insights which they hoped would help managers improve the performance of their direct marketing campaigns.\n",
    "\n",
    "The researchers made a portion of the of the marketing data set available to the public, it contains the information of 45211 clients who were contacted, however due to privacy concerns some of the fields were redacted. For this project I will explore this data set and try to create my own predictive models, I will also try to gain insights which will be able to help future marketing campaigns."
   ]
  },
  {
   "cell_type": "markdown",
   "metadata": {},
   "source": [
    "## Exploritory Data Analysis\n",
    "\n",
    "We will start by importing the data, and analysing the overall structure of the data set."
   ]
  },
  {
   "cell_type": "code",
   "execution_count": 784,
   "metadata": {},
   "outputs": [],
   "source": [
    "import pandas as pd\n",
    "import math\n",
    "import numpy as np\n",
    "import scipy.stats as stats\n",
    "import matplotlib.pyplot as plt\n",
    "import seaborn as sns\n",
    "import statsmodels.api as sm\n",
    "from sklearn.model_selection import train_test_split, cross_val_score\n",
    "from sklearn.tree import DecisionTreeClassifier\n",
    "from sklearn import metrics\n",
    "from sklearn.ensemble import RandomForestClassifier\n",
    "from sklearn.linear_model import LogisticRegression, LinearRegression\n",
    "from sklearn.model_selection import GridSearchCV\n",
    "import xgboost as xgb\n",
    "from sklearn.preprocessing import LabelEncoder\n",
    "from sklearn.metrics import classification_report, accuracy_score, roc_auc_score\n",
    "%matplotlib inline"
   ]
  },
  {
   "cell_type": "code",
   "execution_count": 810,
   "metadata": {
    "collapsed": true
   },
   "outputs": [],
   "source": [
    "# Load the data into a pandas data frame\n",
    "bank = pd.read_csv('bank_full.csv', delimiter=',')"
   ]
  },
  {
   "cell_type": "markdown",
   "metadata": {},
   "source": [
    "To get a better idea of what the data set looks like we look at the head,  description, and data types of the data set"
   ]
  },
  {
   "cell_type": "code",
   "execution_count": 739,
   "metadata": {},
   "outputs": [
    {
     "name": "stdout",
     "output_type": "stream",
     "text": [
      "   age           job  marital  education default  balance housing loan  \\\n",
      "0   58    management  married   tertiary      no     2143     yes   no   \n",
      "1   44    technician   single  secondary      no       29     yes   no   \n",
      "2   33  entrepreneur  married  secondary      no        2     yes  yes   \n",
      "3   47   blue-collar  married    unknown      no     1506     yes   no   \n",
      "4   33       unknown   single    unknown      no        1      no   no   \n",
      "\n",
      "   contact  day month  year  duration  campaign  pdays  previous poutcome   y  \n",
      "0  unknown    5   may  2008       261         1   -600         0  unknown  no  \n",
      "1  unknown    5   may  2008       151         1   -600         0  unknown  no  \n",
      "2  unknown    5   may  2008        76         1   -600         0  unknown  no  \n",
      "3  unknown    5   may  2008        92         1   -600         0  unknown  no  \n",
      "4  unknown    5   may  2008       198         1   -600         0  unknown  no  \n"
     ]
    }
   ],
   "source": [
    "print(bank.head())"
   ]
  },
  {
   "cell_type": "code",
   "execution_count": 673,
   "metadata": {},
   "outputs": [
    {
     "name": "stdout",
     "output_type": "stream",
     "text": [
      "<class 'pandas.core.frame.DataFrame'>\n",
      "RangeIndex: 45211 entries, 0 to 45210\n",
      "Data columns (total 19 columns):\n",
      "age           45211 non-null int64\n",
      "job           45211 non-null object\n",
      "marital       45211 non-null object\n",
      "education     45211 non-null object\n",
      "default       45211 non-null object\n",
      "balance       45211 non-null int64\n",
      "housing       45211 non-null object\n",
      "loan          45211 non-null object\n",
      "contact       45211 non-null object\n",
      "day           45211 non-null int64\n",
      "month         45211 non-null object\n",
      "year          45211 non-null int64\n",
      "duration      45211 non-null int64\n",
      "campaign      45211 non-null int64\n",
      "pdays         45211 non-null int64\n",
      "pdays_bool    45211 non-null int64\n",
      "previous      45211 non-null int64\n",
      "poutcome      45211 non-null object\n",
      "y             45211 non-null object\n",
      "dtypes: int64(9), object(10)\n",
      "memory usage: 6.6+ MB\n"
     ]
    }
   ],
   "source": [
    "bank.info()"
   ]
  },
  {
   "cell_type": "code",
   "execution_count": 5,
   "metadata": {},
   "outputs": [
    {
     "data": {
      "text/html": [
       "<div>\n",
       "<style>\n",
       "    .dataframe thead tr:only-child th {\n",
       "        text-align: right;\n",
       "    }\n",
       "\n",
       "    .dataframe thead th {\n",
       "        text-align: left;\n",
       "    }\n",
       "\n",
       "    .dataframe tbody tr th {\n",
       "        vertical-align: top;\n",
       "    }\n",
       "</style>\n",
       "<table border=\"1\" class=\"dataframe\">\n",
       "  <thead>\n",
       "    <tr style=\"text-align: right;\">\n",
       "      <th></th>\n",
       "      <th>age</th>\n",
       "      <th>balance</th>\n",
       "      <th>day</th>\n",
       "      <th>duration</th>\n",
       "      <th>campaign</th>\n",
       "      <th>pdays</th>\n",
       "      <th>previous</th>\n",
       "    </tr>\n",
       "  </thead>\n",
       "  <tbody>\n",
       "    <tr>\n",
       "      <th>count</th>\n",
       "      <td>45211.000000</td>\n",
       "      <td>45211.000000</td>\n",
       "      <td>45211.000000</td>\n",
       "      <td>45211.000000</td>\n",
       "      <td>45211.000000</td>\n",
       "      <td>45211.000000</td>\n",
       "      <td>45211.000000</td>\n",
       "    </tr>\n",
       "    <tr>\n",
       "      <th>mean</th>\n",
       "      <td>40.936210</td>\n",
       "      <td>1362.272058</td>\n",
       "      <td>15.806419</td>\n",
       "      <td>258.163080</td>\n",
       "      <td>2.763841</td>\n",
       "      <td>40.197828</td>\n",
       "      <td>0.580323</td>\n",
       "    </tr>\n",
       "    <tr>\n",
       "      <th>std</th>\n",
       "      <td>10.618762</td>\n",
       "      <td>3044.765829</td>\n",
       "      <td>8.322476</td>\n",
       "      <td>257.527812</td>\n",
       "      <td>3.098021</td>\n",
       "      <td>100.128746</td>\n",
       "      <td>2.303441</td>\n",
       "    </tr>\n",
       "    <tr>\n",
       "      <th>min</th>\n",
       "      <td>18.000000</td>\n",
       "      <td>-8019.000000</td>\n",
       "      <td>1.000000</td>\n",
       "      <td>0.000000</td>\n",
       "      <td>1.000000</td>\n",
       "      <td>-1.000000</td>\n",
       "      <td>0.000000</td>\n",
       "    </tr>\n",
       "    <tr>\n",
       "      <th>25%</th>\n",
       "      <td>33.000000</td>\n",
       "      <td>72.000000</td>\n",
       "      <td>8.000000</td>\n",
       "      <td>103.000000</td>\n",
       "      <td>1.000000</td>\n",
       "      <td>-1.000000</td>\n",
       "      <td>0.000000</td>\n",
       "    </tr>\n",
       "    <tr>\n",
       "      <th>50%</th>\n",
       "      <td>39.000000</td>\n",
       "      <td>448.000000</td>\n",
       "      <td>16.000000</td>\n",
       "      <td>180.000000</td>\n",
       "      <td>2.000000</td>\n",
       "      <td>-1.000000</td>\n",
       "      <td>0.000000</td>\n",
       "    </tr>\n",
       "    <tr>\n",
       "      <th>75%</th>\n",
       "      <td>48.000000</td>\n",
       "      <td>1428.000000</td>\n",
       "      <td>21.000000</td>\n",
       "      <td>319.000000</td>\n",
       "      <td>3.000000</td>\n",
       "      <td>-1.000000</td>\n",
       "      <td>0.000000</td>\n",
       "    </tr>\n",
       "    <tr>\n",
       "      <th>max</th>\n",
       "      <td>95.000000</td>\n",
       "      <td>102127.000000</td>\n",
       "      <td>31.000000</td>\n",
       "      <td>4918.000000</td>\n",
       "      <td>63.000000</td>\n",
       "      <td>871.000000</td>\n",
       "      <td>275.000000</td>\n",
       "    </tr>\n",
       "  </tbody>\n",
       "</table>\n",
       "</div>"
      ],
      "text/plain": [
       "                age        balance           day      duration      campaign  \\\n",
       "count  45211.000000   45211.000000  45211.000000  45211.000000  45211.000000   \n",
       "mean      40.936210    1362.272058     15.806419    258.163080      2.763841   \n",
       "std       10.618762    3044.765829      8.322476    257.527812      3.098021   \n",
       "min       18.000000   -8019.000000      1.000000      0.000000      1.000000   \n",
       "25%       33.000000      72.000000      8.000000    103.000000      1.000000   \n",
       "50%       39.000000     448.000000     16.000000    180.000000      2.000000   \n",
       "75%       48.000000    1428.000000     21.000000    319.000000      3.000000   \n",
       "max       95.000000  102127.000000     31.000000   4918.000000     63.000000   \n",
       "\n",
       "              pdays      previous  \n",
       "count  45211.000000  45211.000000  \n",
       "mean      40.197828      0.580323  \n",
       "std      100.128746      2.303441  \n",
       "min       -1.000000      0.000000  \n",
       "25%       -1.000000      0.000000  \n",
       "50%       -1.000000      0.000000  \n",
       "75%       -1.000000      0.000000  \n",
       "max      871.000000    275.000000  "
      ]
     },
     "execution_count": 5,
     "metadata": {},
     "output_type": "execute_result"
    }
   ],
   "source": [
    "bank.describe()"
   ]
  },
  {
   "cell_type": "markdown",
   "metadata": {},
   "source": [
    "From this we can see that our data frame has 45211 rows and 17 columns, each row contains the details related to one client. Each column represents a feature or variable of the data set, we have 16 independent variables and one dependent variable which is called 'y', it represents the outcome of the marketing campaign."
   ]
  },
  {
   "cell_type": "markdown",
   "metadata": {},
   "source": [
    "We will now explore the important variables of our dataset"
   ]
  },
  {
   "cell_type": "markdown",
   "metadata": {},
   "source": [
    "#### Output variable - y"
   ]
  },
  {
   "cell_type": "markdown",
   "metadata": {},
   "source": [
    "This is binary output variable, it tells us whether or not the marketing campaign resulted in the client opening a term deposit or not. From the graph below we can see that the outcome is imbalanced, of the 45211 clients who were contacted, only 11.7% opened a term deposit. \n",
    "\n",
    "This may be problematic for us since we are trying to model the data, yet we have such an imbalanced data set. It is for this reason that when we approach the model creation we must be cautions with regards to what evaluation metric we use. The reason for this is that if we use a basic evaluation technique such as accuracy, even a naive classifier which assumes that every client will decline to open a term deposit, will score an accuracy of 88.3%. "
   ]
  },
  {
   "cell_type": "code",
   "execution_count": 6,
   "metadata": {},
   "outputs": [
    {
     "data": {
      "text/plain": [
       "<matplotlib.axes._subplots.AxesSubplot at 0x21c10b290f0>"
      ]
     },
     "execution_count": 6,
     "metadata": {},
     "output_type": "execute_result"
    },
    {
     "data": {
      "image/png": "[encoded data removed]",
      "text/plain": [
       "<matplotlib.figure.Figure at 0x21c0b39dd30>"
      ]
     },
     "metadata": {},
     "output_type": "display_data"
    }
   ],
   "source": [
    "sns.countplot(x=\"y\", data=bank)"
   ]
  },
  {
   "cell_type": "code",
   "execution_count": 7,
   "metadata": {},
   "outputs": [
    {
     "name": "stdout",
     "output_type": "stream",
     "text": [
      "Proportion yes: 0.117\n",
      "Proportion no: 0.883\n"
     ]
    }
   ],
   "source": [
    "# Proportion of yes/no\n",
    "\n",
    "# we'll start off by counting the total number of people who did and didn't subscribe\n",
    "ycount = bank['y'].value_counts()\n",
    "# we need to count the number of total observations\n",
    "rowcount = bank.shape[0]-1\n",
    "\n",
    "print('Proportion yes: ' + '{0:2.3f}'.format((ycount[1]/rowcount)))\n",
    "print('Proportion no: ' + '{0:2.3f}'.format((ycount[0]/rowcount)))\n",
    "\n",
    "# We'll save the overall proportion of successes as the variable expected, this will help us with our chi squared tests\n",
    "expected = ycount[1]/rowcount"
   ]
  },
  {
   "cell_type": "markdown",
   "metadata": {},
   "source": [
    "#### Age\n",
    "\n",
    "This variable records the age of the client when they were contacted by the marketer. We use a histogram and boxplot to get an idea of the distribution of our data. We also use a boxplot graph to compare the age distribution of the people who opened term deposit accounts versus those who didn't. It looks as though the customers who said no are slightly older that those who said yes, however it is not sufficient to read this from the graph. We must perform a statistical test to determine if their is a statistically significant difference\n",
    "\n",
    "Although there are a number of outliers in our dataset, since they are all under 100 years old, it is probably safe to assume that no error has been made in recording these customers age, and they are legitimatly that old."
   ]
  },
  {
   "cell_type": "code",
   "execution_count": 8,
   "metadata": {},
   "outputs": [
    {
     "data": {
      "text/plain": [
       "[<matplotlib.text.Text at 0x21c116bfe80>]"
      ]
     },
     "execution_count": 8,
     "metadata": {},
     "output_type": "execute_result"
    },
    {
     "data": {
      "image/png": "[encoded data removed]",
      "text/plain": [
       "<matplotlib.figure.Figure at 0x21c10a8e128>"
      ]
     },
     "metadata": {},
     "output_type": "display_data"
    }
   ],
   "source": [
    "plt.subplot(1, 3, 1)\n",
    "ageplt = bank.age.plot( kind='hist', bins = 74, figsize=(15,5))\n",
    "plt.xlabel('Age')\n",
    "\n",
    "plt.subplot(1, 3, 2)\n",
    "agebox = plt.boxplot(bank.age, 0, 'b')\n",
    "plt.ylabel('Age')\n",
    "\n",
    "plt.subplot(1, 3, 3)\n",
    "agebox2 = sns.boxplot(x=\"y\", y=\"age\", data=bank)\n",
    "agebox2.set(xlabel='outcome')"
   ]
  },
  {
   "cell_type": "markdown",
   "metadata": {},
   "source": [
    "#### Job\n",
    "\n",
    "It's interesting to look at the variations in the success rate between the groups. While it is hardly surprising to see retirees subscribing to term deposits some other categories are a little more surprising, such as the the success rate with blue-collar workers, students and the unemployed. This is contrasted with the low success rate among managers, who one would assume would have the financial means to hold a diverse investment portfolio, which may include term deposits. However it's difficult to deduce from the dataset why there is such a large disparity in success rate between the groups.\n",
    "\n",
    "One problem which we can see from the data is that there is a group of customers, for who their job is unknown. When we look at the proportion of customers who opened a term deposit and did not list their occupation, versus the overall proportion of success, we can see that they are almost identical. Since they are identical and since there are so few customers who don't list their occupation, we will drop these customers when we clean the data set."
   ]
  },
  {
   "cell_type": "code",
   "execution_count": 544,
   "metadata": {},
   "outputs": [
    {
     "data": {
      "text/plain": [
       "<matplotlib.axes._subplots.AxesSubplot at 0x225b0d0ab00>"
      ]
     },
     "execution_count": 544,
     "metadata": {},
     "output_type": "execute_result"
    },
    {
     "data": {
      "image/png": "[encoded data removed]",
      "text/plain": [
       "<matplotlib.figure.Figure at 0x225b0d874a8>"
      ]
     },
     "metadata": {},
     "output_type": "display_data"
    }
   ],
   "source": [
    "# We first graph the job titles and their respective totals\n",
    "x = ['management', 'technician','entrepreneur','blue-collar','retired', 'admin.', 'services', 'self-employed', 'unemployed', 'housemaid', 'student', 'unknown']\n",
    "fig, axes = plt.subplots(figsize=(13, 8))\n",
    "plt.subplot(2, 1, 1)\n",
    "sns.countplot(x=\"job\", data=bank, order=x)\n",
    "\n",
    "# We then want to graph the which shows how successful the campaign was with each job category, to do this we first need to build a data frame which shows the proportion of success, grouped by job\n",
    "jobsuccess = bank['job'].loc[bank['y']== 'yes'].value_counts()\n",
    "jobcount = bank['job'].value_counts()\n",
    "X = pd.DataFrame(columns=['Job','Success'])\n",
    "\n",
    "Job=[]\n",
    "Success=[]\n",
    "for item in range(len(jobcount)):\n",
    "    Job.append(jobcount.keys()[item])\n",
    "    Success.append(jobsuccess[item]/jobcount[item])\n",
    "\n",
    "Proportion = {'Job':Job, 'Success':Success}\n",
    "X = pd.DataFrame(Proportion)\n",
    "\n",
    "plt.subplot(2, 1, 2)\n",
    "sns.barplot(x='Job', y='Success', data=X, order=x)"
   ]
  },
  {
   "cell_type": "markdown",
   "metadata": {},
   "source": [
    "#### Month\n",
    "\n",
    "It's interesting to see how dramatic the variation in success rate is between the months, especially when we consider that the dataset relates to a marketing campaign which took place over three years. It seems that most of the calls were made in May, however this is the month which had the lowest success rate, however on the months which had the least ammount of calls such December and March, the success rate was the highest.\n",
    "\n",
    "As we will see in the modeling section of the capstone project, there is a statistical significance between the months, rather than the variation being due to random noise. It would have been extremly useful for the Bank to have investigated the disparity in success rate between the months. The best guess I can come up with is that the months relate to when the term deposits come to maturity, thus the high success rate is due to the bank contacting existing subscribers and asking them if they want to roll over the acocunt for another term."
   ]
  },
  {
   "cell_type": "code",
   "execution_count": 545,
   "metadata": {},
   "outputs": [
    {
     "data": {
      "text/plain": [
       "<matplotlib.axes._subplots.AxesSubplot at 0x225ab56c3c8>"
      ]
     },
     "execution_count": 545,
     "metadata": {},
     "output_type": "execute_result"
    },
    {
     "data": {
      "image/png": "[encoded data removed]",
      "text/plain": [
       "<matplotlib.figure.Figure at 0x225b0ce4550>"
      ]
     },
     "metadata": {},
     "output_type": "display_data"
    }
   ],
   "source": [
    "# Let's look at the success rate, categorised by month\n",
    "# We first graph the Month and their respective totals\n",
    "x = ['jan', 'feb', 'mar', 'apr', 'may', 'jun', 'jul', 'aug', 'sep', 'oct', 'nov', 'dec']\n",
    "fig, axes = plt.subplots(figsize=(13, 8))\n",
    "plt.subplot(2, 1, 1)\n",
    "sns.countplot(x=\"month\", data=bank, order=x)\n",
    "\n",
    "# We then want to graph the which shows how successful the campaign was by month, to do this we first need to build a data frame which shows the proportion of success, grouped by month\n",
    "monthsuccess = bank['month'].loc[bank['y']== 'yes'].value_counts()\n",
    "monthcount = bank['month'].value_counts()\n",
    "X = pd.DataFrame(columns=['month','Success'])\n",
    "\n",
    "month=[]\n",
    "success=[]\n",
    "for item in range(len(monthcount)):\n",
    "    month.append(monthcount.keys()[item])\n",
    "    success.append(monthsuccess[item]/monthcount[item])\n",
    "\n",
    "Proportion = {'month':month, 'success':success}\n",
    "X = pd.DataFrame(Proportion)\n",
    "\n",
    "plt.subplot(2, 1, 2)\n",
    "sns.barplot(x='month', y='success', data=X, order=x)"
   ]
  },
  {
   "cell_type": "markdown",
   "metadata": {},
   "source": [
    "#### Duration\n",
    "\n",
    "The above figures show the distribution of the durations of the final phone call. From the histogram on the left we can see that there is a strong inbalance in the duration, with most phone calls being fairly short. Since the overall success rate is 11.7%, we might guess that unsuccesful calls tend to be shorter than succesful ones.\n",
    "\n",
    "If we look at the boxplot on the right, it confirms this guess. The successful calls tend to be much longer than the unsuccesful calls. This makes intuitive sense since customers who are interested in the will spend more time with the marketer, asking questions about the product. It will also take additional time for the customer to sign up for the product. This is in comparison to the uninterested customer, who is likely to be unwilling to spend time one the phone with the marketer.\n",
    "\n",
    "However this variable is problematic since we can only know the length of the final call once we know the outcome of the call, i.e. whether or not the customer opened a term deposit account. The problem arrose when researchers confused causation with correlation, instead of merly stating that there was a correlation between the two, they made the recomendation that the telemarketers should try to stay on the line for as long as possible with the customers since it increases the probability of them opening a term deposit."
   ]
  },
  {
   "cell_type": "code",
   "execution_count": 33,
   "metadata": {},
   "outputs": [
    {
     "data": {
      "text/plain": [
       "[<matplotlib.text.Text at 0x21c1273a320>]"
      ]
     },
     "execution_count": 33,
     "metadata": {},
     "output_type": "execute_result"
    },
    {
     "data": {
      "image/png": "[encoded data removed]",
      "text/plain": [
       "<matplotlib.figure.Figure at 0x21c11355fd0>"
      ]
     },
     "metadata": {},
     "output_type": "display_data"
    }
   ],
   "source": [
    "# Let's look at the duration of the final call\n",
    "plt.subplot(1, 3, 1)\n",
    "durationplt = bank.duration.plot( kind='hist', bins = 74, figsize=(15,5))\n",
    "plt.xlabel('Duration')\n",
    "\n",
    "plt.subplot(1, 3, 2)\n",
    "durationbox = plt.boxplot(bank.duration, 0, 'b')\n",
    "plt.xlabel('Duration')\n",
    "\n",
    "plt.subplot(1, 3, 3)\n",
    "durationbox2 = sns.boxplot(x=\"y\", y=\"duration\", data=bank)\n",
    "durationbox2.set(xlabel='Outcome')\n",
    "durationbox2.set(ylabel='Duration')"
   ]
  },
  {
   "cell_type": "markdown",
   "metadata": {},
   "source": [
    "#### Balance\n",
    "\n",
    "This is the account balance of the customer in Euros. We can see that on average customers who subscribe to a term deposit has a larger account compared to the customers who don't. This is hardly surprising, however what is surprising is the low account balance of both groups, even the group who did subscribe had on average less than 1000 Euros. It is important to note that this is not a measure of the total networth of our customer, they likely have other assets.\n",
    "\n",
    "Although there is a large spread of account balancesranging from those with small negative balances, to those with over 100,000 Euros. Although these are outliers these account balances are entierly resonable, thus we won't touch them when we clean the data set. "
   ]
  },
  {
   "cell_type": "code",
   "execution_count": 528,
   "metadata": {},
   "outputs": [
    {
     "data": {
      "image/png": "[encoded data removed]",
      "text/plain": [
       "<matplotlib.figure.Figure at 0x225af41b2e8>"
      ]
     },
     "metadata": {},
     "output_type": "display_data"
    }
   ],
   "source": [
    "plt.subplot(1, 3, 1)\n",
    "balanceplt = bank.balance.plot( kind='hist', bins = 20, figsize=(15,5))\n",
    "plt.xlabel('Balance')\n",
    "balanceplt.set_yscale('log')\n",
    "\n",
    "\n",
    "plt.subplot(1, 3, 2)\n",
    "balancebox = plt.boxplot(bank.balance, 0, 'b')\n",
    "plt.xlabel('Balance')\n",
    "#plt.yscale('log')\n",
    "\n",
    "\n",
    "plt.subplot(1, 3, 3)\n",
    "balancebox2 = sns.boxplot(x=\"y\", y=\"balance\", data=bank)\n",
    "balancebox2.set(xlabel='Balance')\n",
    "plt.yscale('log')"
   ]
  },
  {
   "cell_type": "markdown",
   "metadata": {},
   "source": [
    "#### Pdays\n",
    "\n",
    "This variable records the number of days that passed by after the client was last contacted from a previous campaign. From the comparitive boxplot on the right, we can see that the customers who were previously contacted are more likely to open an account.\n",
    "\n",
    "We can see that there are many outliers in our data set, however since the campaign was conducted over a three year period, a pdays value of just under 900 is entierly resonable, thus we won't remove those values in our data cleaning.\n",
    "\n",
    "Note that the ajority of the clients in the data set weren't contacted in a previous campaign, we use a placeholder of -1 to signify that the customer was not previously contacted. Since there are too many clients who were not contacted, it is not fesable to remove them. The most sensible way of dealing with these missing values is to keep the placeholder of -1."
   ]
  },
  {
   "cell_type": "code",
   "execution_count": 865,
   "metadata": {},
   "outputs": [
    {
     "data": {
      "text/plain": [
       "[<matplotlib.text.Text at 0x225ae8b7390>]"
      ]
     },
     "execution_count": 865,
     "metadata": {},
     "output_type": "execute_result"
    },
    {
     "data": {
      "image/png": "[encoded data removed]",
      "text/plain": [
       "<matplotlib.figure.Figure at 0x225ae08fda0>"
      ]
     },
     "metadata": {},
     "output_type": "display_data"
    }
   ],
   "source": [
    "# Pdays - , note -1 means not previously contacted\n",
    "\n",
    "plt.subplot(1, 3, 1)\n",
    "pdaysplt = bank.pdays.plot( kind='hist', bins = 20, figsize=(15,5))\n",
    "plt.xlabel('Pdays')\n",
    "\n",
    "plt.subplot(1, 3, 2)\n",
    "pdaysbox = plt.boxplot(bank.pdays, 0, 'b')\n",
    "plt.xlabel('Pdays')\n",
    "\n",
    "plt.subplot(1, 3, 3)\n",
    "pdaysbox2 = sns.boxplot(x=\"y\", y=\"pdays\", data=bank)\n",
    "pdaysbox2.set(xlabel='outcome')\n",
    "#plt.yscale('log')"
   ]
  },
  {
   "cell_type": "markdown",
   "metadata": {},
   "source": [
    "#### Education\n",
    "\n",
    "Is the highest level of education attained by the customer. Two interesting patterns can be observed, firstly we can see that as the level of education of the customer increases, so too does the liklihood that the customer will open a term deposit. Secondly, we can see that the customers who didn't provide and education level have the second highest success rate. Since the rate at which they open accounts is about 2% above the global mean of 11.7%, we can see that there is something statistically significant happening here. Thus I feel that the best way to treat this variable is to treat is as a legitimate fourth category."
   ]
  },
  {
   "cell_type": "code",
   "execution_count": 548,
   "metadata": {},
   "outputs": [
    {
     "data": {
      "text/plain": [
       "<matplotlib.axes._subplots.AxesSubplot at 0x225b1f8dc18>"
      ]
     },
     "execution_count": 548,
     "metadata": {},
     "output_type": "execute_result"
    },
    {
     "data": {
      "image/png": "[encoded data removed]",
      "text/plain": [
       "<matplotlib.figure.Figure at 0x225b27f1860>"
      ]
     },
     "metadata": {},
     "output_type": "display_data"
    }
   ],
   "source": [
    "# We first graph the education level and their respective totals\n",
    "x = ['primary','secondary' ,'tertiary' , 'unknown']\n",
    "fig, axes = plt.subplots(figsize=(13, 8))\n",
    "plt.subplot(2, 1, 1)\n",
    "sns.countplot(x=\"education\", data=bank, order=x)\n",
    "\n",
    "# We then want to graph the which shows how successful the campaign was with each education level, to do this we first need to build a data frame which shows the proportion of success, grouped education level\n",
    "educationsuccess = bank['education'].loc[bank['y']== 'yes'].value_counts()\n",
    "educationcount = bank['education'].value_counts()\n",
    "X = pd.DataFrame(columns=['education','Success'])\n",
    "\n",
    "education=[]\n",
    "success=[]\n",
    "for item in range(len(educationcount)):\n",
    "    education.append(educationcount.keys()[item])\n",
    "    success.append(educationsuccess[item]/educationcount[item])\n",
    "\n",
    "Proportion = {'education':education, 'success':success}\n",
    "X = pd.DataFrame(Proportion)\n",
    "\n",
    "plt.subplot(2, 1, 2)\n",
    "sns.barplot(x='education', y='success', data=X, order=x)"
   ]
  },
  {
   "cell_type": "markdown",
   "metadata": {},
   "source": [
    "#### Marital Status\n",
    "\n",
    "From the graph we can see that there is a sizable disparity in success rates between singles and married people, the single customers appear to have a 5% higher success rate than customers who are married."
   ]
  },
  {
   "cell_type": "code",
   "execution_count": 243,
   "metadata": {},
   "outputs": [
    {
     "data": {
      "text/plain": [
       "<matplotlib.axes._subplots.AxesSubplot at 0x2259c637c50>"
      ]
     },
     "execution_count": 243,
     "metadata": {},
     "output_type": "execute_result"
    },
    {
     "data": {
      "image/png": "[encoded data removed]",
      "text/plain": [
       "<matplotlib.figure.Figure at 0x225c36d7f98>"
      ]
     },
     "metadata": {},
     "output_type": "display_data"
    }
   ],
   "source": [
    "# We first graph the Marital Status and their respective totals\n",
    "fig, axes = plt.subplots(figsize=(13, 8))\n",
    "plt.subplot(2, 1, 1)\n",
    "sns.countplot(x=\"marital\", data=bank)\n",
    "\n",
    "# We then want to graph the which shows how successful the campaign was with each marital category, to do this we first need to build a data frame which shows the proportion of success, grouped by marital status\n",
    "maritalsuccess = bank['marital'].loc[bank['y']== 'yes'].value_counts()\n",
    "maritalcount = bank['marital'].value_counts()\n",
    "X = pd.DataFrame(columns=['marital','Success'])\n",
    "\n",
    "marital=[]\n",
    "success=[]\n",
    "for item in range(len(maritalcount)):\n",
    "    marital.append(maritalcount.keys()[item])\n",
    "    success.append(maritalsuccess[item]/maritalcount[item])\n",
    "\n",
    "Proportion = {'marital':marital, 'success':success}\n",
    "X = pd.DataFrame(Proportion)\n",
    "\n",
    "plt.subplot(2, 1, 2)\n",
    "sns.barplot(x='marital', y='success', data=X)"
   ]
  },
  {
   "cell_type": "markdown",
   "metadata": {},
   "source": [
    "## Data preparation\n",
    "\n",
    "To clean the data set we will:\n",
    "- Drop the rows of our data set where the job is unknown, since we saw in our EDA the average of the group is almost the same as our data set, and there is only 288 rows, it is resonable to drop the rows\n",
    "- Encode our categorical data using a lable encoder. We will map the month values using kep pair values since we care about the order of the labels. For the rest of the categorical variables we will use a label encoder \n",
    "\n"
   ]
  },
  {
   "cell_type": "code",
   "execution_count": 811,
   "metadata": {
    "collapsed": true
   },
   "outputs": [],
   "source": [
    "# We drop the 288 rows where the job is unknown\n",
    "bank = bank.drop(bank[bank.job=='unknown'].index)"
   ]
  },
  {
   "cell_type": "code",
   "execution_count": 812,
   "metadata": {},
   "outputs": [],
   "source": [
    "# Map function to convert the months to numeric\n",
    "bank['month'] =bank['month'].map({\n",
    "    'jan': 1,\n",
    "    'feb': 2,\n",
    "    'mar': 3,\n",
    "    'apr': 4,\n",
    "    'may': 5,\n",
    "    'jun': 6,\n",
    "    'jul': 7,\n",
    "    'aug': 8,\n",
    "    'sep': 9,\n",
    "    'oct': 10,\n",
    "    'nov': 11,\n",
    "    'dec': 12\n",
    "    })"
   ]
  },
  {
   "cell_type": "code",
   "execution_count": 813,
   "metadata": {},
   "outputs": [],
   "source": [
    "# We then initalise the label encoder and use it to encode the rest of our catgorical variables\n",
    "lb_make = LabelEncoder()\n",
    "\n",
    "categories = ['job', 'marital', 'education', 'default', 'housing', 'loan', 'contact', 'poutcome', 'y']\n",
    "for col in categories: \n",
    "    bank[str(col)+\"_code\"] = lb_make.fit_transform(bank[col])    "
   ]
  },
  {
   "cell_type": "markdown",
   "metadata": {},
   "source": [
    "There are a number of features which I found which improved the performance of the model, they are:\n",
    "\n",
    "- The date\n",
    "- The difference between the CPI and the term deposit rate\n",
    "- The level of unemployment\n",
    "- The CPI\n",
    "- The change in the monthly unemployment rate between the current and previous month\n",
    "\n",
    "\n",
    "Until now Data Scientists modeling this data set have used a feature numbering the day of the month, and the month, looking at previous research it appears that these features are statistically significant. However the problem with the current approach is that it misses the bigger picture, the data set represents a marketing campaign which was conducted over a three year period. Thus it is naive to treat days and months as if they were homogenous, e.g. it is naive to say that July 2008 is equivalent to July 2010. There are no doubt social and economic factors which are affecting the consumers behaviour, since these factors are constantly changing it made sense to add in a date variable.\n",
    "\n",
    "Another factor which had a large affect on the performance of the model was the addition of a feature which captured the difference between the Portugese Consumer Price Index and the Portugese three month term deposit rate. The rational behind this feature is that customers are rational, rather than looking at the aggregate rate (i.e. the term deposit rate) they are concerned with the real rate of return, meaning the difference between the term deposit rate and the CPI.\n",
    "\n",
    "The final three feature I have included are the level of unemployment, CPI, and the change in the monthly unemployment rate between the current and previous month. These features lead to modest improvements in the models performance.\n",
    "\n",
    "The data for these dates has been stored in a file called features, we will load in the file as a data frame and merge it with our bank data frame."
   ]
  },
  {
   "cell_type": "code",
   "execution_count": 814,
   "metadata": {},
   "outputs": [],
   "source": [
    "# Create date feature using the format DDMMYYYY\n",
    "bank['date'] = (bank['day']*1000000)+(bank['month']*10000)+bank['year']\n",
    "\n",
    "# Create a 'features' column so that we have a common colum to merge our dataframes\n",
    "bank['features'] = (bank['month']*10000)+bank['year']"
   ]
  },
  {
   "cell_type": "code",
   "execution_count": 815,
   "metadata": {},
   "outputs": [],
   "source": [
    "# Load features into a data frame\n",
    "features = pd.read_csv('features.csv', delimiter=',')"
   ]
  },
  {
   "cell_type": "code",
   "execution_count": 866,
   "metadata": {},
   "outputs": [],
   "source": [
    "# Merge on the common variable \n",
    "bank2 = pd.merge(bank, features, on=\"features\")"
   ]
  },
  {
   "cell_type": "code",
   "execution_count": 817,
   "metadata": {
    "collapsed": true
   },
   "outputs": [],
   "source": [
    "# Drop redundant columns and split into input and output variables\n",
    "X = bank2.drop(['y_code', 'job', 'marital', 'education', 'default', 'housing', 'loan', 'contact', 'poutcome', 'y', 'month', 'day', 'year', 'features'],axis=1)\n",
    "y = bank2['y_code']"
   ]
  },
  {
   "cell_type": "markdown",
   "metadata": {},
   "source": [
    "## Model creation"
   ]
  },
  {
   "cell_type": "markdown",
   "metadata": {},
   "source": [
    "Now that we start modeling our data it is important for us to understand exactly what we are trying to model. Although some may treat this data set as if it were a classification problem, I feel as though it is more or a predictive one. By this I mean that we are not trying to predict whether or not someone will open a term deposit account, i.e. it is not a binary classification problem. Rather we are trying to model the probability that each customer will open a term deposit account.\n",
    "\n",
    "Of the research I have seen on this data set, they use the area under the reciever opperator curve (AUC) as their evaluation metric. In this problem the outcome is binomial, what we are trying to do is construct a probability distribution for each category of outcome. The reason why the AUC is such a good choice for en evaluation metric is that the closer the AUC is to one, the better we have sepperated the distributions, meaning that our model does a better job of differentiating between those who will open an account versus those who will not."
   ]
  },
  {
   "cell_type": "markdown",
   "metadata": {},
   "source": [
    "#### Linear regression\n",
    "\n",
    "We will start off with a simple linear regression, this will serve as a baseline to compare the accuracy of our other models"
   ]
  },
  {
   "cell_type": "code",
   "execution_count": 818,
   "metadata": {},
   "outputs": [],
   "source": [
    "# We then split the data into a training and testing set and train the decision tree \n",
    "X_train, X_test, y_train, y_test = train_test_split(X, y, test_size=0.20)"
   ]
  },
  {
   "cell_type": "code",
   "execution_count": 819,
   "metadata": {},
   "outputs": [],
   "source": [
    "# Initalise the linear regressor, fit it to the training data and evaluate on the test set\n",
    "lr = LinearRegression()\n",
    "lr.fit(X_train, y_train)\n",
    "lr_pred = lr.predict(X_test)"
   ]
  },
  {
   "cell_type": "code",
   "execution_count": 820,
   "metadata": {},
   "outputs": [
    {
     "name": "stdout",
     "output_type": "stream",
     "text": [
      "0.921334117794\n"
     ]
    }
   ],
   "source": [
    "print(roc_auc_score(y_test, lr_pred))"
   ]
  },
  {
   "cell_type": "markdown",
   "metadata": {},
   "source": [
    "We can see that our linear model does an excelent job of modeling the data set, but let's see if we can do any better"
   ]
  },
  {
   "cell_type": "markdown",
   "metadata": {},
   "source": [
    "#### Decision tree"
   ]
  },
  {
   "cell_type": "code",
   "execution_count": 821,
   "metadata": {},
   "outputs": [
    {
     "name": "stdout",
     "output_type": "stream",
     "text": [
      "0.722155691208\n"
     ]
    }
   ],
   "source": [
    "dtree = DecisionTreeClassifier()\n",
    "dtree.fit(X_train,y_train)\n",
    "predictions = dtree.predict(X_test)\n",
    "print(roc_auc_score(y_test, predictions))"
   ]
  },
  {
   "cell_type": "markdown",
   "metadata": {},
   "source": [
    "Although the AUC score is certainly better than a random guess, which would give a score of 0.5, it is much worse than our linear model. Perhapse using a collection of decision trees we will be able to yield better performance."
   ]
  },
  {
   "cell_type": "markdown",
   "metadata": {},
   "source": [
    "#### XGBoost"
   ]
  },
  {
   "cell_type": "markdown",
   "metadata": {},
   "source": [
    "XGBoost, which is short for extreme gradient boosting uses a collection of weak learners to build a predictive model. A good analogy to explain how this process works would be to imagine a collection of decision trees voting on how probable a customer is of opening a term deposit account, although each decision tree may only be slightly better than a random guess, a whole collection of trees may do a great job or predicting the outcome."
   ]
  },
  {
   "cell_type": "code",
   "execution_count": 822,
   "metadata": {
    "collapsed": true
   },
   "outputs": [],
   "source": [
    "bank_dmatrix = xgb.DMatrix(data=X_train, label=y_train)"
   ]
  },
  {
   "cell_type": "code",
   "execution_count": 850,
   "metadata": {},
   "outputs": [
    {
     "name": "stdout",
     "output_type": "stream",
     "text": [
      "   test-auc-mean  test-auc-std  train-auc-mean  train-auc-std\n",
      "9       0.942628      0.000741        0.958505        0.00075\n"
     ]
    }
   ],
   "source": [
    "# Create the parameter dictionary for each tree (boosting round)\n",
    "params = {\"objective\":\"reg:logistic\"}\n",
    "    \n",
    "# Perform cross-validation: cv_results\n",
    "cv_results = xgb.cv(dtrain=bank_dmatrix, params=params, metrics=\"auc\", as_pandas=True)\n",
    "print(cv_results[-1:])"
   ]
  },
  {
   "cell_type": "markdown",
   "metadata": {},
   "source": [
    "With out any parameter tunning we can already see that our XGBoost performs better than our other previously tested models. After only 10 rounds of boosting we have an AUC for our test data of 0.942628. This is already on par with what previous research was able to acheive! \n",
    "\n",
    "Let's do some parameter tunning to see if we can further improve our model. We'll start off with a gridsearchto find the optimal parameters for our model. "
   ]
  },
  {
   "cell_type": "code",
   "execution_count": null,
   "metadata": {},
   "outputs": [],
   "source": [
    "param_test1 = {\n",
    "    'max_depth':[3,4,5],\n",
    "    'learning_rate':[0.078, 0.1, 0.12],\n",
    "    'subsample':[0.8, 0.91, 1], \n",
    "    'colsample_bytree':[0.90, 0.95, 1],\n",
    "}\n",
    "gsearch1 = GridSearchCV(estimator = xgb.XGBClassifier(n_estimators=400, objective= 'reg:logistic', nthread=4, seed=27), \n",
    "param_grid = param_test1, scoring='roc_auc', n_jobs=4, iid=False, cv=15)\n",
    "gsearch1.fit(X_train,y_train)\n",
    "gsearch1.grid_scores_, gsearch1.best_params_, gsearch1.best_score_"
   ]
  },
  {
   "cell_type": "markdown",
   "metadata": {},
   "source": [
    "Now that we have have found the optimal parameters we perform cross validation to check the accuracy of our model. We specify that if test AUC doesn't improve after 50 rounds we should stop the test. We also specify the number of folds used in the cross validation, in our case we use 15 folds."
   ]
  },
  {
   "cell_type": "code",
   "execution_count": 864,
   "metadata": {},
   "outputs": [
    {
     "name": "stdout",
     "output_type": "stream",
     "text": [
      "     test-auc-mean  test-auc-std  train-auc-mean  train-auc-std\n",
      "0         0.898719      0.010001        0.903646       0.002010\n",
      "1         0.908866      0.009643        0.913969       0.005728\n",
      "2         0.916129      0.007046        0.921053       0.004340\n",
      "3         0.921871      0.006487        0.926264       0.002425\n",
      "4         0.924291      0.006407        0.928347       0.002237\n",
      "5         0.925293      0.006475        0.929670       0.002238\n",
      "6         0.925866      0.006401        0.930498       0.002198\n",
      "7         0.927059      0.006578        0.931566       0.002750\n",
      "8         0.928481      0.006078        0.933013       0.003192\n",
      "9         0.929126      0.005873        0.933627       0.003190\n",
      "10        0.930304      0.006354        0.934747       0.003459\n",
      "11        0.931221      0.006041        0.935970       0.003186\n",
      "12        0.932493      0.006202        0.937436       0.002918\n",
      "13        0.934136      0.006233        0.938880       0.001867\n",
      "14        0.935149      0.006010        0.940008       0.001763\n",
      "15        0.936033      0.005961        0.941200       0.001231\n",
      "16        0.936600      0.006417        0.941938       0.001092\n",
      "17        0.937192      0.006312        0.942491       0.000926\n",
      "18        0.937738      0.006515        0.943070       0.000696\n",
      "19        0.937987      0.006442        0.943408       0.000707\n",
      "20        0.938119      0.006482        0.943769       0.000623\n",
      "21        0.938418      0.006497        0.944225       0.000584\n",
      "22        0.938690      0.006572        0.944607       0.000548\n",
      "23        0.939138      0.006662        0.945027       0.000394\n",
      "24        0.939525      0.006547        0.945343       0.000374\n",
      "25        0.939677      0.006523        0.945615       0.000391\n",
      "26        0.939938      0.006502        0.945946       0.000332\n",
      "27        0.940148      0.006361        0.946250       0.000367\n",
      "28        0.940484      0.006143        0.946576       0.000379\n",
      "29        0.940717      0.006106        0.946887       0.000414\n",
      "..             ...           ...             ...            ...\n",
      "233       0.946787      0.005189        0.970445       0.000362\n",
      "234       0.946783      0.005184        0.970520       0.000360\n",
      "235       0.946801      0.005181        0.970587       0.000356\n",
      "236       0.946775      0.005190        0.970631       0.000367\n",
      "237       0.946781      0.005176        0.970703       0.000360\n",
      "238       0.946790      0.005171        0.970773       0.000361\n",
      "239       0.946790      0.005169        0.970841       0.000359\n",
      "240       0.946772      0.005182        0.970907       0.000344\n",
      "241       0.946762      0.005183        0.970984       0.000339\n",
      "242       0.946765      0.005193        0.971042       0.000338\n",
      "243       0.946775      0.005182        0.971099       0.000322\n",
      "244       0.946788      0.005189        0.971172       0.000318\n",
      "245       0.946806      0.005166        0.971246       0.000316\n",
      "246       0.946834      0.005152        0.971315       0.000316\n",
      "247       0.946810      0.005148        0.971383       0.000321\n",
      "248       0.946818      0.005142        0.971458       0.000332\n",
      "249       0.946805      0.005132        0.971528       0.000322\n",
      "250       0.946797      0.005131        0.971593       0.000325\n",
      "251       0.946805      0.005151        0.971660       0.000330\n",
      "252       0.946818      0.005136        0.971732       0.000325\n",
      "253       0.946825      0.005137        0.971817       0.000327\n",
      "254       0.946824      0.005127        0.971874       0.000321\n",
      "255       0.946815      0.005120        0.971931       0.000321\n",
      "256       0.946805      0.005097        0.972011       0.000308\n",
      "257       0.946807      0.005090        0.972078       0.000309\n",
      "258       0.946814      0.005098        0.972135       0.000305\n",
      "259       0.946817      0.005109        0.972187       0.000304\n",
      "260       0.946830      0.005132        0.972252       0.000311\n",
      "261       0.946837      0.005123        0.972313       0.000309\n",
      "262       0.946861      0.005109        0.972364       0.000306\n",
      "\n",
      "[263 rows x 4 columns]\n"
     ]
    }
   ],
   "source": [
    "# Create the parameter dictionary for each tree (boosting round)\n",
    "params = {\"objective\":\"reg:logistic\", \"max_depth\":5, \"learning_rate\":0.078, \"subsample\":0.91, \"colsample_bytree\":0.95}\n",
    "\n",
    "# Perform cross-validation: cv_results\n",
    "cv_results = xgb.cv(dtrain=bank_dmatrix, params=params, num_boost_round=400, as_pandas=True, metrics='auc', nfold=15, early_stopping_rounds=50, seed=27)\n",
    "print(cv_results[-1:])"
   ]
  },
  {
   "cell_type": "markdown",
   "metadata": {},
   "source": [
    "We find that after 262 rounds of boosting, we arrive at a training AUC of 0.946861."
   ]
  },
  {
   "cell_type": "markdown",
   "metadata": {},
   "source": [
    "We will now model how the accuracy of our model improves as we increase the amount of trees, i.e. the ammount of trees which make up our model. We can see how as the model complexity increases so too does the accuracy, however there are diminishing returns, it reaches a point at around 200 rounds where each additional round does little to improve the model accuracy. This is the reason why in our last test although we specified a maximum of 400 rounds the test stopped after only 262."
   ]
  },
  {
   "cell_type": "code",
   "execution_count": 320,
   "metadata": {},
   "outputs": [
    {
     "data": {
      "text/plain": [
       "<matplotlib.collections.PathCollection at 0x225a44e00b8>"
      ]
     },
     "execution_count": 320,
     "metadata": {},
     "output_type": "execute_result"
    },
    {
     "data": {
      "image/png": "[encoded data removed]",
      "text/plain": [
       "<matplotlib.figure.Figure at 0x225a5b9d828>"
      ]
     },
     "metadata": {},
     "output_type": "display_data"
    }
   ],
   "source": [
    "# Create the parameter dictionary for each tree (boosting round)\n",
    "params = {\"objective\":\"reg:logistic\", \"max_depth\":5, \"learning_rate\":0.078, \"subsample\":0.91, \"colsample_bytree\":0.95}\n",
    "\n",
    "# Perform cross-validation: cv_results\n",
    "cv_results = xgb.cv(dtrain=bank_dmatrix, params=params, num_boost_round=400, as_pandas=True, metrics='auc', nfold=15)\n",
    "results = pd.DataFrame(cv_results)\n",
    "results['round'] = range(1, len(results) + 1)\n",
    "plt.scatter(results['round'], results['test-auc-mean'])"
   ]
  },
  {
   "cell_type": "markdown",
   "metadata": {},
   "source": [
    "We will now look at how the size of the training data set affects the accuracy of our model. We can see that as we increase the ammount of data which we feed our model, we get an improvement of model accuracy, however once again there are diminishing returns."
   ]
  },
  {
   "cell_type": "code",
   "execution_count": 847,
   "metadata": {},
   "outputs": [],
   "source": [
    "# Let's look at how the size of the training data affects the AUC\n",
    "data_sizes =  (0.995, 0.99, 0.9, 0.8, 0.7, 0.6, 0.5, 0.4, 0.3, 0.2, 0.1, 0)\n",
    "llst = []\n",
    "\n",
    "def training_size():\n",
    "    for sample in data_sizes:\n",
    "        X_train, X_test, y_train, y_test = train_test_split(X, y, test_size=sample)\n",
    "        bank_dmatrix = xgb.DMatrix(data=X_train, label=y_train)\n",
    "        cv_results = xgb.cv(dtrain=bank_dmatrix, params=params, nfold=5, num_boost_round=400, as_pandas=True, metrics='auc')\n",
    "        llst.append({'Size': ((1-sample)*len(X)), 'AUC': cv_results[\"test-auc-mean\"][399]})\n",
    "    return llst"
   ]
  },
  {
   "cell_type": "code",
   "execution_count": 848,
   "metadata": {},
   "outputs": [
    {
     "data": {
      "text/plain": [
       "<matplotlib.collections.PathCollection at 0x225b4e5ee48>"
      ]
     },
     "execution_count": 848,
     "metadata": {},
     "output_type": "execute_result"
    },
    {
     "data": {
      "image/png": "[encoded data removed]",
      "text/plain": [
       "<matplotlib.figure.Figure at 0x225ae023c18>"
      ]
     },
     "metadata": {},
     "output_type": "display_data"
    }
   ],
   "source": [
    "scores = pd.DataFrame(training_size())\n",
    "plt.scatter(scores.Size, scores.AUC)"
   ]
  },
  {
   "cell_type": "markdown",
   "metadata": {},
   "source": [
    "We now create a graph to show feature importance. From it we can see that duration is the most important feature for predicting outcome."
   ]
  },
  {
   "cell_type": "code",
   "execution_count": 836,
   "metadata": {},
   "outputs": [
    {
     "data": {
      "image/png": "[encoded data removed]",
      "text/plain": [
       "<matplotlib.figure.Figure at 0x225ae046828>"
      ]
     },
     "metadata": {},
     "output_type": "display_data"
    }
   ],
   "source": [
    "model = xgb.train(params=params, dtrain=bank_dmatrix, num_boost_round=400)\n",
    "xgb.plot_importance(model)\n",
    "plt.show()"
   ]
  },
  {
   "cell_type": "markdown",
   "metadata": {},
   "source": [
    "## Model Evaluation\n",
    "\n",
    "The reason that I have not treated this problem as a classification problem, is that since we are modeling probabilities, a decision must be made for us to classify our customers. Classification would essentially mean that we take a particular level of probability and classify every point above that level as a success and every point below as a failure. \n",
    "\n",
    "The reason that this is so problematic is that there will invariably be a trade off between accuracy and recal. For example is we were to decide to contact everyone who we predict has a probability of over 90% of opening a term deposit, we would have good accuracy, however our recall would be poor since we would miss out on all the other customers who, had they been contacted would have said yes.\n",
    "\n",
    "Thus to evaluate the model I will use the model which I have created to predict the probability of each customer in the training set signing up for a term deposit. The results of the predictions will be shown in a graph which will show how many customers would be needed to be contacted, in order to reach a given ammount of the total number of customers who would have opened a term deposit in the training set.\n",
    "\n",
    "There was also one important change which was made to the model which I use in the evaluation section vs the model which I use in the model creation section, that is the removal of the 'duration' variable. As I have said earlier, the duration variable is problematic since it can only be known once the outcome is known, since we don't know the length of the final call before until we know whether or not the customer has opened a term deposit account. Thus this feature, although highly correlated to our outcome variable, can not be used for a predictive model. \n",
    "\n",
    "As we will see in the cross validation section, the AUC score of our model falls from ### to ###, although this is a large decrease, the model still does a good job of predicting the training data. The reason which I kept the 'duration' variable in the model building section is that it allows some consistency between our model and the models developed by other researchers, and thus the AUC score which we derive is directly comparable to theirs."
   ]
  },
  {
   "cell_type": "code",
   "execution_count": 837,
   "metadata": {
    "collapsed": true
   },
   "outputs": [],
   "source": [
    "#X_train, X_test, y_train, y_test = train_test_split(X, y, test_size=0.20)\n",
    "xg_cl = xgb.XGBClassifier(objective=\"reg:logistic\", n_estimators=400, learning_rate=0.078, subsample=0.91, colsample_bytree=0.95, max_depth=5)\n",
    "xg_cl.fit(X_train, y_train)\n",
    "preds = xg_cl.predict_proba(X_test)"
   ]
  },
  {
   "cell_type": "code",
   "execution_count": 838,
   "metadata": {},
   "outputs": [],
   "source": [
    "preds = pd.DataFrame(preds)\n",
    "y_test = pd.DataFrame(y_test)\n",
    "preds['number'] = range(1, len(preds) + 1)\n",
    "y_test['number'] = range(1, len(y_test) + 1)\n",
    "result = pd.merge(preds, y_test, on=\"number\")\n",
    "#result.to_csv(\"results.csv\")"
   ]
  },
  {
   "cell_type": "code",
   "execution_count": 839,
   "metadata": {},
   "outputs": [],
   "source": [
    "result = result.sort_values(by=[1], ascending=False)\n",
    "#result['y_code'][1000:].sum()\n",
    "result['number'] = range(1, len(y_test) + 1)\n",
    "#result.reset_index()"
   ]
  },
  {
   "cell_type": "code",
   "execution_count": 840,
   "metadata": {},
   "outputs": [],
   "source": [
    "total_yes = result['y_code'].sum()\n",
    "recall = []\n",
    "calls = []\n",
    "\n",
    "for x in range(len(result)):\n",
    "    rec = result['y_code'][:x].sum()/total_yes\n",
    "    called = x/len(result)\n",
    "    recall.append(rec)\n",
    "    calls.append(called)\n",
    "    \n",
    "result['recall'] = recall\n",
    "result['called'] = calls\n",
    "#evall = pd.DataFrame(columns=['probability', 'recall'])\n",
    "result.to_csv(\"results.csv\")\n",
    "\n",
    "#for percent in range(0,1,0.05)\n",
    "#result['recall'] = result['y_code'].values[0:int(result['number'].values)].sum()/total_yes"
   ]
  },
  {
   "cell_type": "code",
   "execution_count": 841,
   "metadata": {},
   "outputs": [
    {
     "data": {
      "text/plain": [
       "<matplotlib.text.Text at 0x225b3ee92e8>"
      ]
     },
     "execution_count": 841,
     "metadata": {},
     "output_type": "execute_result"
    },
    {
     "data": {
      "image/png": "[encoded data removed]",
      "text/plain": [
       "<matplotlib.figure.Figure at 0x225b3e647f0>"
      ]
     },
     "metadata": {},
     "output_type": "display_data"
    }
   ],
   "source": [
    "plt.scatter(result['called']*100, result['recall']*100)\n",
    "plt.xlabel('called')\n",
    "plt.ylabel('recall')"
   ]
  },
  {
   "cell_type": "markdown",
   "metadata": {},
   "source": [
    "From the graph above we can see if we were to rank the customers in the training set in order of how likely we predict that they are of opening a term deposit, that there is a trade off between the ammount of people we call and the percentage of the total term deposit accounts which we could have opened. For example by calling #% of the customers in the training set we would have reached ##% of the total customers in the training set who would have opened term deposit accounts.\n",
    "\n",
    "We can see that the model does a good job of predicting the probability that a customer will open an account, however the difficulty of this problem is that if we wish to all of the potential customers who would have opened an account, we need to contact almost all of the customers on our list. THe reason for this is that since we have so many customers (### in our set), even if the bottom half of our ranked customers only have a 2% chance of opening an account, by not calling them we would have missed out on ### term deposits being opened.\n",
    "\n",
    "It is for this reason that I have chosen to evaluate this as a predictive problem as opposed to a classification problem. Since classification would require us to choose a threshold above which we call the customers, and since there is an inherent tradeoff between the percentage of customers which we call, percentage of the total outcome had we called all customers, I feel that the selection of this threshold is a management decision rather than a data science problem."
   ]
  }
 ],
 "metadata": {
  "kernelspec": {
   "display_name": "Python 3",
   "language": "python",
   "name": "python3"
  },
  "language_info": {
   "codemirror_mode": {
    "name": "ipython",
    "version": 3
   },
   "file_extension": ".py",
   "mimetype": "text/x-python",
   "name": "python",
   "nbconvert_exporter": "python",
   "pygments_lexer": "ipython3",
   "version": "3.6.1"
  }
 },
 "nbformat": 4,
 "nbformat_minor": 2
}
