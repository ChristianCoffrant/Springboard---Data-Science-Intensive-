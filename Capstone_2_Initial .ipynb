{
 "cells": [
  {
   "cell_type": "markdown",
   "metadata": {},
   "source": [
    "# Synthetic credit card fraud dataset"
   ]
  },
  {
   "cell_type": "code",
   "execution_count": 44,
   "metadata": {},
   "outputs": [],
   "source": [
    "import pandas as pd\n",
    "import warnings\n",
    "import math\n",
    "import numpy as np\n",
    "import scipy.stats as stats\n",
    "import matplotlib.pyplot as plt\n",
    "import seaborn as sns\n",
    "import statsmodels.api as sm\n",
    "from sklearn.model_selection import train_test_split, cross_val_score\n",
    "from sklearn.tree import DecisionTreeClassifier\n",
    "from sklearn import metrics\n",
    "from sklearn.ensemble import RandomForestClassifier\n",
    "from sklearn.linear_model import LogisticRegression\n",
    "from sklearn.model_selection import GridSearchCV\n",
    "import xgboost as xgb\n",
    "from sklearn.preprocessing import LabelEncoder\n",
    "from sklearn.metrics import classification_report, accuracy_score, roc_auc_score, average_precision_score\n",
    "%matplotlib inline\n",
    "warnings.simplefilter(action='ignore', category=FutureWarning)"
   ]
  },
  {
   "cell_type": "markdown",
   "metadata": {},
   "source": [
    "### EDA"
   ]
  },
  {
   "cell_type": "code",
   "execution_count": 47,
   "metadata": {},
   "outputs": [],
   "source": [
    "fraud = pd.read_csv('fraud.csv', delimiter=',')"
   ]
  },
  {
   "cell_type": "code",
   "execution_count": 48,
   "metadata": {},
   "outputs": [
    {
     "data": {
      "text/html": [
       "<div>\n",
       "<style>\n",
       "    .dataframe thead tr:only-child th {\n",
       "        text-align: right;\n",
       "    }\n",
       "\n",
       "    .dataframe thead th {\n",
       "        text-align: left;\n",
       "    }\n",
       "\n",
       "    .dataframe tbody tr th {\n",
       "        vertical-align: top;\n",
       "    }\n",
       "</style>\n",
       "<table border=\"1\" class=\"dataframe\">\n",
       "  <thead>\n",
       "    <tr style=\"text-align: right;\">\n",
       "      <th></th>\n",
       "      <th>step</th>\n",
       "      <th>amount</th>\n",
       "      <th>oldbalanceOrg</th>\n",
       "      <th>newbalanceOrig</th>\n",
       "      <th>oldbalanceDest</th>\n",
       "      <th>newbalanceDest</th>\n",
       "      <th>isFraud</th>\n",
       "      <th>isFlaggedFraud</th>\n",
       "    </tr>\n",
       "  </thead>\n",
       "  <tbody>\n",
       "    <tr>\n",
       "      <th>count</th>\n",
       "      <td>6.362620e+06</td>\n",
       "      <td>6.362620e+06</td>\n",
       "      <td>6.362620e+06</td>\n",
       "      <td>6.362620e+06</td>\n",
       "      <td>6.362620e+06</td>\n",
       "      <td>6.362620e+06</td>\n",
       "      <td>6.362620e+06</td>\n",
       "      <td>6.362620e+06</td>\n",
       "    </tr>\n",
       "    <tr>\n",
       "      <th>mean</th>\n",
       "      <td>2.433972e+02</td>\n",
       "      <td>1.798619e+05</td>\n",
       "      <td>8.338831e+05</td>\n",
       "      <td>8.551137e+05</td>\n",
       "      <td>1.100702e+06</td>\n",
       "      <td>1.224996e+06</td>\n",
       "      <td>1.290820e-03</td>\n",
       "      <td>2.514687e-06</td>\n",
       "    </tr>\n",
       "    <tr>\n",
       "      <th>std</th>\n",
       "      <td>1.423320e+02</td>\n",
       "      <td>6.038582e+05</td>\n",
       "      <td>2.888243e+06</td>\n",
       "      <td>2.924049e+06</td>\n",
       "      <td>3.399180e+06</td>\n",
       "      <td>3.674129e+06</td>\n",
       "      <td>3.590480e-02</td>\n",
       "      <td>1.585775e-03</td>\n",
       "    </tr>\n",
       "    <tr>\n",
       "      <th>min</th>\n",
       "      <td>1.000000e+00</td>\n",
       "      <td>0.000000e+00</td>\n",
       "      <td>0.000000e+00</td>\n",
       "      <td>0.000000e+00</td>\n",
       "      <td>0.000000e+00</td>\n",
       "      <td>0.000000e+00</td>\n",
       "      <td>0.000000e+00</td>\n",
       "      <td>0.000000e+00</td>\n",
       "    </tr>\n",
       "    <tr>\n",
       "      <th>25%</th>\n",
       "      <td>1.560000e+02</td>\n",
       "      <td>1.338957e+04</td>\n",
       "      <td>0.000000e+00</td>\n",
       "      <td>0.000000e+00</td>\n",
       "      <td>0.000000e+00</td>\n",
       "      <td>0.000000e+00</td>\n",
       "      <td>0.000000e+00</td>\n",
       "      <td>0.000000e+00</td>\n",
       "    </tr>\n",
       "    <tr>\n",
       "      <th>50%</th>\n",
       "      <td>2.390000e+02</td>\n",
       "      <td>7.487194e+04</td>\n",
       "      <td>1.420800e+04</td>\n",
       "      <td>0.000000e+00</td>\n",
       "      <td>1.327057e+05</td>\n",
       "      <td>2.146614e+05</td>\n",
       "      <td>0.000000e+00</td>\n",
       "      <td>0.000000e+00</td>\n",
       "    </tr>\n",
       "    <tr>\n",
       "      <th>75%</th>\n",
       "      <td>3.350000e+02</td>\n",
       "      <td>2.087215e+05</td>\n",
       "      <td>1.073152e+05</td>\n",
       "      <td>1.442584e+05</td>\n",
       "      <td>9.430367e+05</td>\n",
       "      <td>1.111909e+06</td>\n",
       "      <td>0.000000e+00</td>\n",
       "      <td>0.000000e+00</td>\n",
       "    </tr>\n",
       "    <tr>\n",
       "      <th>max</th>\n",
       "      <td>7.430000e+02</td>\n",
       "      <td>9.244552e+07</td>\n",
       "      <td>5.958504e+07</td>\n",
       "      <td>4.958504e+07</td>\n",
       "      <td>3.560159e+08</td>\n",
       "      <td>3.561793e+08</td>\n",
       "      <td>1.000000e+00</td>\n",
       "      <td>1.000000e+00</td>\n",
       "    </tr>\n",
       "  </tbody>\n",
       "</table>\n",
       "</div>"
      ],
      "text/plain": [
       "               step        amount  oldbalanceOrg  newbalanceOrig  \\\n",
       "count  6.362620e+06  6.362620e+06   6.362620e+06    6.362620e+06   \n",
       "mean   2.433972e+02  1.798619e+05   8.338831e+05    8.551137e+05   \n",
       "std    1.423320e+02  6.038582e+05   2.888243e+06    2.924049e+06   \n",
       "min    1.000000e+00  0.000000e+00   0.000000e+00    0.000000e+00   \n",
       "25%    1.560000e+02  1.338957e+04   0.000000e+00    0.000000e+00   \n",
       "50%    2.390000e+02  7.487194e+04   1.420800e+04    0.000000e+00   \n",
       "75%    3.350000e+02  2.087215e+05   1.073152e+05    1.442584e+05   \n",
       "max    7.430000e+02  9.244552e+07   5.958504e+07    4.958504e+07   \n",
       "\n",
       "       oldbalanceDest  newbalanceDest       isFraud  isFlaggedFraud  \n",
       "count    6.362620e+06    6.362620e+06  6.362620e+06    6.362620e+06  \n",
       "mean     1.100702e+06    1.224996e+06  1.290820e-03    2.514687e-06  \n",
       "std      3.399180e+06    3.674129e+06  3.590480e-02    1.585775e-03  \n",
       "min      0.000000e+00    0.000000e+00  0.000000e+00    0.000000e+00  \n",
       "25%      0.000000e+00    0.000000e+00  0.000000e+00    0.000000e+00  \n",
       "50%      1.327057e+05    2.146614e+05  0.000000e+00    0.000000e+00  \n",
       "75%      9.430367e+05    1.111909e+06  0.000000e+00    0.000000e+00  \n",
       "max      3.560159e+08    3.561793e+08  1.000000e+00    1.000000e+00  "
      ]
     },
     "execution_count": 48,
     "metadata": {},
     "output_type": "execute_result"
    }
   ],
   "source": [
    "fraud.describe()"
   ]
  },
  {
   "cell_type": "code",
   "execution_count": 49,
   "metadata": {},
   "outputs": [
    {
     "data": {
      "text/html": [
       "<div>\n",
       "<style>\n",
       "    .dataframe thead tr:only-child th {\n",
       "        text-align: right;\n",
       "    }\n",
       "\n",
       "    .dataframe thead th {\n",
       "        text-align: left;\n",
       "    }\n",
       "\n",
       "    .dataframe tbody tr th {\n",
       "        vertical-align: top;\n",
       "    }\n",
       "</style>\n",
       "<table border=\"1\" class=\"dataframe\">\n",
       "  <thead>\n",
       "    <tr style=\"text-align: right;\">\n",
       "      <th></th>\n",
       "      <th>step</th>\n",
       "      <th>type</th>\n",
       "      <th>amount</th>\n",
       "      <th>nameOrig</th>\n",
       "      <th>oldbalanceOrg</th>\n",
       "      <th>newbalanceOrig</th>\n",
       "      <th>nameDest</th>\n",
       "      <th>oldbalanceDest</th>\n",
       "      <th>newbalanceDest</th>\n",
       "      <th>isFraud</th>\n",
       "      <th>isFlaggedFraud</th>\n",
       "    </tr>\n",
       "  </thead>\n",
       "  <tbody>\n",
       "    <tr>\n",
       "      <th>0</th>\n",
       "      <td>1</td>\n",
       "      <td>PAYMENT</td>\n",
       "      <td>9839.64</td>\n",
       "      <td>C1231006815</td>\n",
       "      <td>170136.0</td>\n",
       "      <td>160296.36</td>\n",
       "      <td>M1979787155</td>\n",
       "      <td>0.0</td>\n",
       "      <td>0.0</td>\n",
       "      <td>0</td>\n",
       "      <td>0</td>\n",
       "    </tr>\n",
       "    <tr>\n",
       "      <th>1</th>\n",
       "      <td>1</td>\n",
       "      <td>PAYMENT</td>\n",
       "      <td>1864.28</td>\n",
       "      <td>C1666544295</td>\n",
       "      <td>21249.0</td>\n",
       "      <td>19384.72</td>\n",
       "      <td>M2044282225</td>\n",
       "      <td>0.0</td>\n",
       "      <td>0.0</td>\n",
       "      <td>0</td>\n",
       "      <td>0</td>\n",
       "    </tr>\n",
       "    <tr>\n",
       "      <th>2</th>\n",
       "      <td>1</td>\n",
       "      <td>TRANSFER</td>\n",
       "      <td>181.00</td>\n",
       "      <td>C1305486145</td>\n",
       "      <td>181.0</td>\n",
       "      <td>0.00</td>\n",
       "      <td>C553264065</td>\n",
       "      <td>0.0</td>\n",
       "      <td>0.0</td>\n",
       "      <td>1</td>\n",
       "      <td>0</td>\n",
       "    </tr>\n",
       "    <tr>\n",
       "      <th>3</th>\n",
       "      <td>1</td>\n",
       "      <td>CASH_OUT</td>\n",
       "      <td>181.00</td>\n",
       "      <td>C840083671</td>\n",
       "      <td>181.0</td>\n",
       "      <td>0.00</td>\n",
       "      <td>C38997010</td>\n",
       "      <td>21182.0</td>\n",
       "      <td>0.0</td>\n",
       "      <td>1</td>\n",
       "      <td>0</td>\n",
       "    </tr>\n",
       "    <tr>\n",
       "      <th>4</th>\n",
       "      <td>1</td>\n",
       "      <td>PAYMENT</td>\n",
       "      <td>11668.14</td>\n",
       "      <td>C2048537720</td>\n",
       "      <td>41554.0</td>\n",
       "      <td>29885.86</td>\n",
       "      <td>M1230701703</td>\n",
       "      <td>0.0</td>\n",
       "      <td>0.0</td>\n",
       "      <td>0</td>\n",
       "      <td>0</td>\n",
       "    </tr>\n",
       "  </tbody>\n",
       "</table>\n",
       "</div>"
      ],
      "text/plain": [
       "   step      type    amount     nameOrig  oldbalanceOrg  newbalanceOrig  \\\n",
       "0     1   PAYMENT   9839.64  C1231006815       170136.0       160296.36   \n",
       "1     1   PAYMENT   1864.28  C1666544295        21249.0        19384.72   \n",
       "2     1  TRANSFER    181.00  C1305486145          181.0            0.00   \n",
       "3     1  CASH_OUT    181.00   C840083671          181.0            0.00   \n",
       "4     1   PAYMENT  11668.14  C2048537720        41554.0        29885.86   \n",
       "\n",
       "      nameDest  oldbalanceDest  newbalanceDest  isFraud  isFlaggedFraud  \n",
       "0  M1979787155             0.0             0.0        0               0  \n",
       "1  M2044282225             0.0             0.0        0               0  \n",
       "2   C553264065             0.0             0.0        1               0  \n",
       "3    C38997010         21182.0             0.0        1               0  \n",
       "4  M1230701703             0.0             0.0        0               0  "
      ]
     },
     "execution_count": 49,
     "metadata": {},
     "output_type": "execute_result"
    }
   ],
   "source": [
    "fraud.head()"
   ]
  },
  {
   "cell_type": "code",
   "execution_count": 50,
   "metadata": {},
   "outputs": [
    {
     "name": "stdout",
     "output_type": "stream",
     "text": [
      "<class 'pandas.core.frame.DataFrame'>\n",
      "RangeIndex: 6362620 entries, 0 to 6362619\n",
      "Data columns (total 11 columns):\n",
      "step              int64\n",
      "type              object\n",
      "amount            float64\n",
      "nameOrig          object\n",
      "oldbalanceOrg     float64\n",
      "newbalanceOrig    float64\n",
      "nameDest          object\n",
      "oldbalanceDest    float64\n",
      "newbalanceDest    float64\n",
      "isFraud           int64\n",
      "isFlaggedFraud    int64\n",
      "dtypes: float64(5), int64(3), object(3)\n",
      "memory usage: 534.0+ MB\n"
     ]
    }
   ],
   "source": [
    "fraud.info()"
   ]
  },
  {
   "cell_type": "code",
   "execution_count": 58,
   "metadata": {},
   "outputs": [
    {
     "name": "stdout",
     "output_type": "stream",
     "text": [
      "The amount of empty empty destination accounts before the transfer :2704388\n",
      "The amount of empty empty destination accounts before the transfer :2102449\n",
      "The amount of empty empty destination accounts before the transfer :2439433\n",
      "The amount of empty empty destination accounts before the transfer :3609566\n",
      "The amount transfers in the dataset :6362620\n"
     ]
    }
   ],
   "source": [
    "print(\"The amount of empty empty destination accounts before the transfer :\" + str(fraud['oldbalanceDest'].loc[fraud.oldbalanceDest == 0].count()))\n",
    "print(\"The amount of empty empty destination accounts before the transfer :\" + str(fraud['oldbalanceOrg'].loc[fraud.oldbalanceOrg == 0].count()))\n",
    "print(\"The amount of empty empty destination accounts before the transfer :\" + str(fraud['newbalanceDest'].loc[fraud.newbalanceDest == 0].count()))\n",
    "print(\"The amount of empty empty destination accounts before the transfer :\" + str(fraud['newbalanceOrig'].loc[fraud.newbalanceOrig == 0].count()))\n",
    "print(\"The amount transfers in the dataset :\" + str(len(fraud)))"
   ]
  },
  {
   "cell_type": "markdown",
   "metadata": {},
   "source": [
    "### isFraud\n",
    "\n",
    "Transactions which were fraudulent"
   ]
  },
  {
   "cell_type": "code",
   "execution_count": 291,
   "metadata": {},
   "outputs": [
    {
     "data": {
      "text/plain": [
       "<matplotlib.axes._subplots.AxesSubplot at 0x1aa48866908>"
      ]
     },
     "execution_count": 291,
     "metadata": {},
     "output_type": "execute_result"
    },
    {
     "data": {
      "image/png": "[encoded data removed]",
      "text/plain": [
       "<matplotlib.figure.Figure at 0x1aa45aac9b0>"
      ]
     },
     "metadata": {},
     "output_type": "display_data"
    }
   ],
   "source": [
    "sns.countplot(x=\"isFraud\", data=fraud)"
   ]
  },
  {
   "cell_type": "code",
   "execution_count": 293,
   "metadata": {},
   "outputs": [
    {
     "name": "stdout",
     "output_type": "stream",
     "text": [
      "Proportion yes: 0.001\n",
      "Proportion no: 0.999\n"
     ]
    }
   ],
   "source": [
    "# Proportion of yes/no\n",
    "\n",
    "# we'll start off by counting the total number of people who did and didn't subscribe\n",
    "ycount = fraud['isFraud'].value_counts()\n",
    "# we need to count the number of total observations\n",
    "rowcount = fraud.shape[0]-1\n",
    "\n",
    "print('Proportion yes: ' + '{0:2.3f}'.format((ycount[1]/rowcount)))\n",
    "print('Proportion no: ' + '{0:2.3f}'.format((ycount[0]/rowcount)))\n",
    "\n",
    "# We'll save the overall proportion of successes as the variable expected, this will help us with our chi squared tests\n",
    "expected = ycount[1]/rowcount"
   ]
  },
  {
   "cell_type": "markdown",
   "metadata": {},
   "source": [
    "### newbalanceOrig\n",
    "\n",
    "Is the balance of the origin account after the transaction"
   ]
  },
  {
   "cell_type": "code",
   "execution_count": 294,
   "metadata": {},
   "outputs": [
    {
     "data": {
      "text/plain": [
       "<matplotlib.text.Text at 0x1aa4cc63be0>"
      ]
     },
     "execution_count": 294,
     "metadata": {},
     "output_type": "execute_result"
    },
    {
     "data": {
      "image/png": "[encoded data removed]",
      "text/plain": [
       "<matplotlib.figure.Figure at 0x1aa58c1c7f0>"
      ]
     },
     "metadata": {},
     "output_type": "display_data"
    }
   ],
   "source": [
    "plt.subplot(1, 3, 1)\n",
    "amountplt = fraud.newbalanceOrig.plot( kind='hist', bins = 20, figsize=(15,7), range=(0,500000))\n",
    "#plt.xlabel('oldbalanceOrg')\n",
    "plt.title('newbalanceOrig distribution')\n",
    "\n",
    "plt.subplot(1, 3, 2)\n",
    "newbalanceOrigbox = sns.boxplot(y=\"newbalanceOrig\", data=fraud)\n",
    "#newbalanceOrigbox.set_yscale('log')\n",
    "plt.ylim(0, 500000)\n",
    "plt.ylabel('newbalanceOrig')\n",
    "plt.title('Overall')\n",
    "\n",
    "plt.subplot(1, 3, 3)\n",
    "newbalanceOrigbox2 = sns.boxplot(x=\"isFraud\", y=\"newbalanceOrig\", data=fraud)\n",
    "#newbalanceOrigbox2.set_yscale('log')\n",
    "plt.ylim(0, 500000)\n",
    "newbalanceOrigbox2.set(xlabel='outcome')\n",
    "plt.title('Comparative')"
   ]
  },
  {
   "cell_type": "markdown",
   "metadata": {},
   "source": [
    "### oldbalanceOrg\n",
    "\n",
    "Is the balance of the origin account before the transaction"
   ]
  },
  {
   "cell_type": "code",
   "execution_count": 295,
   "metadata": {},
   "outputs": [
    {
     "data": {
      "text/plain": [
       "<matplotlib.text.Text at 0x1aa414c4da0>"
      ]
     },
     "execution_count": 295,
     "metadata": {},
     "output_type": "execute_result"
    },
    {
     "data": {
      "image/png": "[encoded data removed]",
      "text/plain": [
       "<matplotlib.figure.Figure at 0x1aa1c5ff898>"
      ]
     },
     "metadata": {},
     "output_type": "display_data"
    }
   ],
   "source": [
    "plt.subplot(1, 3, 1)\n",
    "amountplt = fraud.oldbalanceOrg.plot( kind='hist', bins = 30, figsize=(15,5), range=(0,500000))\n",
    "#plt.xlabel('oldbalanceOrg')\n",
    "plt.title('oldbalanceOrg distribution')\n",
    "\n",
    "plt.subplot(1, 3, 2)\n",
    "oldbalanceOrgbox = sns.boxplot(y=\"oldbalanceOrg\", data=fraud)\n",
    "#oldbalanceOrgbox.set_yscale('log')\n",
    "plt.ylim(0, 500000)\n",
    "plt.ylabel('oldbalanceOrg')\n",
    "plt.title('Overall')\n",
    "\n",
    "\n",
    "plt.subplot(1, 3, 3)\n",
    "oldbalanceOrgbox2 = sns.boxplot(x=\"isFraud\", y=\"oldbalanceOrg\", data=fraud)\n",
    "#oldbalanceOrgbox2.set_yscale('log')\n",
    "plt.ylim(0, 4000000)\n",
    "oldbalanceOrgbox2.set(xlabel='outcome')\n",
    "plt.title('Comparative')"
   ]
  },
  {
   "cell_type": "markdown",
   "metadata": {},
   "source": [
    "### Amount\n",
    "\n",
    "Is the amount of money which was transacted"
   ]
  },
  {
   "cell_type": "code",
   "execution_count": 296,
   "metadata": {},
   "outputs": [
    {
     "data": {
      "text/plain": [
       "<matplotlib.text.Text at 0x1aa42e8a3c8>"
      ]
     },
     "execution_count": 296,
     "metadata": {},
     "output_type": "execute_result"
    },
    {
     "data": {
      "image/png": "[encoded data removed]",
      "text/plain": [
       "<matplotlib.figure.Figure at 0x1aa8cfe84a8>"
      ]
     },
     "metadata": {},
     "output_type": "display_data"
    }
   ],
   "source": [
    "plt.subplot(1, 3, 1)\n",
    "amountplt = fraud.amount.plot( kind='hist', bins = 30, range=(0,1000000), figsize=(15,5))\n",
    "#plt.xlabel('amount')\n",
    "plt.title('amount distribution')\n",
    "\n",
    "plt.subplot(1, 3, 2)\n",
    "stepbox = sns.boxplot(y=\"amount\", data=fraud)\n",
    "#stepbox.set_yscale('log')\n",
    "plt.ylim(0, 1000000)\n",
    "#plt.ylabel('Amount')\n",
    "plt.title('Overall')\n",
    "\n",
    "plt.subplot(1, 3, 3)\n",
    "stepbox2 = sns.boxplot(x=\"isFraud\", y=\"amount\", data=fraud)\n",
    "#stepbox2.set_yscale('log')\n",
    "plt.ylim(0, 4000000)\n",
    "stepbox2.set(xlabel='outcome')\n",
    "plt.title('Comparative')"
   ]
  },
  {
   "cell_type": "markdown",
   "metadata": {},
   "source": [
    "### newbalanceDest\n",
    "\n",
    "Is the balance of the destination account after the transaction"
   ]
  },
  {
   "cell_type": "code",
   "execution_count": 297,
   "metadata": {},
   "outputs": [
    {
     "data": {
      "text/plain": [
       "<matplotlib.text.Text at 0x1aa47d16e10>"
      ]
     },
     "execution_count": 297,
     "metadata": {},
     "output_type": "execute_result"
    },
    {
     "data": {
      "image/png": "[encoded data removed]",
      "text/plain": [
       "<matplotlib.figure.Figure at 0x1aa1cfa3c88>"
      ]
     },
     "metadata": {},
     "output_type": "display_data"
    }
   ],
   "source": [
    "plt.subplot(1, 3, 1)\n",
    "newbalanceDestplt = fraud.newbalanceDest.plot( kind='hist', bins = 30, figsize=(15,5), range=(0,2000000))\n",
    "#plt.xlabel('newbalanceDest')\n",
    "plt.title('newbalanceDest distribution')\n",
    "\n",
    "plt.subplot(1, 3, 2)\n",
    "stepbox = sns.boxplot(y=\"oldbalanceDest\", data=fraud)\n",
    "plt.ylim(0, 2500000)\n",
    "#stepbox.set_yscale('log')\n",
    "plt.ylabel('newbalanceDest')\n",
    "plt.title('Overall')\n",
    "\n",
    "\n",
    "plt.subplot(1, 3, 3)\n",
    "stepbox2 = sns.boxplot(y=\"oldbalanceDest\", x=\"isFraud\", data=fraud)\n",
    "plt.ylim(0, 2500000)\n",
    "#stepbox2.set_yscale('log')\n",
    "plt.xlabel=('outcome')\n",
    "plt.title('Comparative')"
   ]
  },
  {
   "cell_type": "markdown",
   "metadata": {},
   "source": [
    "### Type\n",
    "\n",
    "Is the type of transaction which occurred"
   ]
  },
  {
   "cell_type": "code",
   "execution_count": 298,
   "metadata": {},
   "outputs": [
    {
     "data": {
      "text/plain": [
       "<matplotlib.axes._subplots.AxesSubplot at 0x1aa58c002e8>"
      ]
     },
     "execution_count": 298,
     "metadata": {},
     "output_type": "execute_result"
    },
    {
     "data": {
      "image/png": "[encoded data removed]",
      "text/plain": [
       "<matplotlib.figure.Figure at 0x1aa4604a908>"
      ]
     },
     "metadata": {},
     "output_type": "display_data"
    }
   ],
   "source": [
    "sns.countplot(x=\"type\", data=fraud)"
   ]
  },
  {
   "cell_type": "markdown",
   "metadata": {},
   "source": [
    "Here are the transfers which were fraudulent"
   ]
  },
  {
   "cell_type": "code",
   "execution_count": 299,
   "metadata": {},
   "outputs": [
    {
     "data": {
      "text/plain": [
       "<matplotlib.axes._subplots.AxesSubplot at 0x1aa28a90e80>"
      ]
     },
     "execution_count": 299,
     "metadata": {},
     "output_type": "execute_result"
    },
    {
     "data": {
      "image/png": "[encoded data removed]",
      "text/plain": [
       "<matplotlib.figure.Figure at 0x1aa35008748>"
      ]
     },
     "metadata": {},
     "output_type": "display_data"
    }
   ],
   "source": [
    "fraud['fraudtype'] = fraud['type'].loc[fraud.isFraud == 1]\n",
    "sns.countplot(x=\"fraudtype\", data=fraud)"
   ]
  },
  {
   "cell_type": "markdown",
   "metadata": {},
   "source": [
    "### Step\n",
    "\n",
    "This variable represents a one hour step during the 31 day month"
   ]
  },
  {
   "cell_type": "code",
   "execution_count": 7,
   "metadata": {},
   "outputs": [
    {
     "data": {
      "text/plain": [
       "<matplotlib.text.Text at 0x27800751390>"
      ]
     },
     "execution_count": 7,
     "metadata": {},
     "output_type": "execute_result"
    },
    {
     "data": {
      "image/png": "[encoded data removed]",
      "text/plain": [
       "<matplotlib.figure.Figure at 0x27800429198>"
      ]
     },
     "metadata": {},
     "output_type": "display_data"
    }
   ],
   "source": [
    "plt.subplot(1, 3, 1)\n",
    "stepplt = fraud.step.plot( kind='hist', bins = 30, figsize=(15,5))\n",
    "plt.xlabel('Step')\n",
    "plt.title('Step distribution')\n",
    "\n",
    "plt.subplot(1, 3, 2)\n",
    "stepbox = sns.boxplot(y=\"step\", data=fraud)\n",
    "plt.ylabel('Step')\n",
    "plt.title('Overall')\n",
    "\n",
    "\n",
    "plt.subplot(1, 3, 3)\n",
    "stepbox2 = sns.boxplot(x=\"isFraud\", y=\"step\", data=fraud)\n",
    "stepbox2.set(xlabel='outcome')\n",
    "plt.title('Comparative')"
   ]
  },
  {
   "cell_type": "markdown",
   "metadata": {},
   "source": [
    "### oldbalanceDest\n",
    "\n",
    "Is the balance of the destination account before the transaction"
   ]
  },
  {
   "cell_type": "code",
   "execution_count": 302,
   "metadata": {},
   "outputs": [
    {
     "data": {
      "text/plain": [
       "<matplotlib.text.Text at 0x1aa178175f8>"
      ]
     },
     "execution_count": 302,
     "metadata": {},
     "output_type": "execute_result"
    },
    {
     "data": {
      "image/png": "[encoded data removed]",
      "text/plain": [
       "<matplotlib.figure.Figure at 0x1aa29279c50>"
      ]
     },
     "metadata": {},
     "output_type": "display_data"
    }
   ],
   "source": [
    "plt.subplot(1, 3, 1)\n",
    "oldbalanceDestplt = fraud.oldbalanceDest.plot(kind='hist', bins = 30, figsize=(15,7), range=(0,7000000))\n",
    "#plt.xlabel('oldbalanceDest')\n",
    "plt.title('oldbalanceDest distribution')\n",
    "\n",
    "\n",
    "plt.subplot(1, 3, 2)\n",
    "stepbox = sns.boxplot(y=\"oldbalanceDest\", data=fraud)\n",
    "#stepbox.set_yscale('log')\n",
    "plt.ylim(0, 3000000)\n",
    "plt.ylabel('oldbalanceDest')\n",
    "plt.title('Overall')\n",
    "\n",
    "\n",
    "plt.subplot(1, 3, 3)\n",
    "stepbox2 = sns.boxplot(y=\"oldbalanceDest\", x=\"isFraud\", data=fraud)\n",
    "#stepbox2.set_yscale('log')\n",
    "plt.ylim(0, 3000000)\n",
    "plt.xlabel=('outcome')\n",
    "plt.title('Comparative')"
   ]
  },
  {
   "cell_type": "markdown",
   "metadata": {},
   "source": [
    "## Data cleaning and feature engineering\n",
    "\n",
    "Steps we take to clean the data:\n",
    "-  We clear all of the rows where the transaction type is not transfer or cashout, the reason for this is we do not observe any cases of fraud in these two columns and thus they are not useful to us.\n",
    "- We use a label encoder to convert the categorical variable to numerical placeholders\n",
    "- We drop the old categorical columns and split the data into an input dataframe X, and an output dataframe y which contains out binary outcome variable"
   ]
  },
  {
   "cell_type": "code",
   "execution_count": 31,
   "metadata": {},
   "outputs": [],
   "source": [
    "fraud = fraud.loc[(fraud.type == 'TRANSFER') | (fraud.type == 'CASH_OUT')]"
   ]
  },
  {
   "cell_type": "code",
   "execution_count": 32,
   "metadata": {
    "collapsed": true
   },
   "outputs": [],
   "source": [
    "fraud[\"hours\"] = fraud[\"step\"].apply(lambda x: x%24)"
   ]
  },
  {
   "cell_type": "code",
   "execution_count": 34,
   "metadata": {},
   "outputs": [
    {
     "name": "stderr",
     "output_type": "stream",
     "text": [
      "C:\\ProgramData\\Anaconda3\\lib\\site-packages\\numpy\\lib\\arraysetops.py:216: FutureWarning: numpy not_equal will not check object identity in the future. The comparison did not return the same result as suggested by the identity (`is`)) and will change.\n",
      "  flag = np.concatenate(([True], aux[1:] != aux[:-1]))\n"
     ]
    }
   ],
   "source": [
    "lb_make = LabelEncoder()\n",
    "\n",
    "categories = ['type', 'nameOrig', 'nameDest', 'prefix_Orig_CASHIN_M']#, 'prefix_Orig_CASHIN_M', 'prefix_Orig_CASHIN_C', 'prefix_Orig_CASHOUT_M', 'prefix_Orig_CASHOUT_C', 'prefix_Orig_TRANSFER_M', 'prefix_Orig_TRANSFER_C']\n",
    "for col in categories: \n",
    "    fraud[str(col)+\"_code\"] = lb_make.fit_transform(fraud[col]) "
   ]
  },
  {
   "cell_type": "markdown",
   "metadata": {},
   "source": [
    "#### Features"
   ]
  },
  {
   "cell_type": "markdown",
   "metadata": {},
   "source": [
    "There are many errors in the balance in the original and destination accounts, we create a feature for the origin and destination accounts which measure how large this error was"
   ]
  },
  {
   "cell_type": "code",
   "execution_count": 35,
   "metadata": {
    "collapsed": true
   },
   "outputs": [],
   "source": [
    "fraud['errorBalanceOrig'] = fraud.newbalanceOrig + fraud.amount - fraud.oldbalanceOrg\n",
    "fraud['errorBalanceDest'] = fraud.oldbalanceDest + fraud.amount - fraud.newbalanceOrig"
   ]
  },
  {
   "cell_type": "markdown",
   "metadata": {},
   "source": [
    "We create a second feature to tell us the prefix of the origin of the cash in transaction. The M prefix tells us that the origin of the cash in was a merchant, the alternative is that it came from a customer. Adding this feature is useful as it will allow the model to differentiate between transactions which come from merchants vs customers"
   ]
  },
  {
   "cell_type": "code",
   "execution_count": 33,
   "metadata": {
    "collapsed": true
   },
   "outputs": [],
   "source": [
    "fraud[\"prefix_Orig_CASHIN_M\"] = fraud.loc[fraud.type == 'CASH_IN'].nameOrig.str.contains('M')"
   ]
  },
  {
   "cell_type": "markdown",
   "metadata": {},
   "source": [
    "We then drop the categorical columns which have been encoded, and we split the dataset into input and output variables"
   ]
  },
  {
   "cell_type": "code",
   "execution_count": 36,
   "metadata": {},
   "outputs": [],
   "source": [
    "fraud = fraud.sample(1000000)"
   ]
  },
  {
   "cell_type": "code",
   "execution_count": 37,
   "metadata": {},
   "outputs": [],
   "source": [
    "X = fraud.drop(['isFraud', 'isFlaggedFraud', 'type', 'nameOrig', 'nameDest', 'prefix_Orig_CASHIN_M'], axis=1)#, 'prefix_Orig_CASHIN_M', 'prefix_Orig_CASHIN_C', 'prefix_Orig_CASHOUT_M', 'prefix_Orig_CASHOUT_C', 'prefix_Orig_TRANSFER_M', 'prefix_Orig_TRANSFER_C', 'prefixNameOgig'], axis=1)\n",
    "y = fraud['isFraud']"
   ]
  },
  {
   "cell_type": "markdown",
   "metadata": {},
   "source": [
    "#### Model Creation"
   ]
  },
  {
   "cell_type": "markdown",
   "metadata": {},
   "source": [
    "We split the data into a testing and training set, and then convert the dataframes into a dmatrix (data structure optimised for XGBoost)"
   ]
  },
  {
   "cell_type": "code",
   "execution_count": 38,
   "metadata": {
    "collapsed": true
   },
   "outputs": [],
   "source": [
    "X_train, X_test, y_train, y_test = train_test_split(X, y, test_size=0.2)"
   ]
  },
  {
   "cell_type": "code",
   "execution_count": 39,
   "metadata": {
    "collapsed": true
   },
   "outputs": [],
   "source": [
    "dmatrix = xgb.DMatrix(data=X_train, label=y_train)"
   ]
  },
  {
   "cell_type": "markdown",
   "metadata": {},
   "source": [
    "We then build a graph to show how each successive round of boosting improves or deproves the score of the model. For this evaluation we will use mean average precision (MAP)"
   ]
  },
  {
   "cell_type": "code",
   "execution_count": 40,
   "metadata": {
    "collapsed": true
   },
   "outputs": [],
   "source": [
    "# Create the parameter dictionary for each tree (boosting round)\n",
    "params = {\"objective\":\"reg:logistic\", \"max_depth\":3, \"learning_rate\":0.069, \"subsample\":0.91, \"colsample_bytree\":0.95}\n",
    "\n",
    "# Perform cross-validation: cv_results\n",
    "cv_results = xgb.cv(dtrain=dmatrix, params=params, num_boost_round=400, as_pandas=True, metrics='map', nfold=15, seed=27)\n",
    "results = pd.DataFrame(cv_results)\n",
    "results['round'] = range(1, len(results) + 1)"
   ]
  },
  {
   "cell_type": "code",
   "execution_count": 41,
   "metadata": {},
   "outputs": [
    {
     "data": {
      "text/plain": [
       "<matplotlib.text.Text at 0x278244c81d0>"
      ]
     },
     "execution_count": 41,
     "metadata": {},
     "output_type": "execute_result"
    },
    {
     "data": {
      "image/png": "[encoded data removed]",
      "text/plain": [
       "<matplotlib.figure.Figure at 0x27837d6cbe0>"
      ]
     },
     "metadata": {},
     "output_type": "display_data"
    }
   ],
   "source": [
    "plt.scatter(results['round'], results['test--mean'])\n",
    "plt.ylim(0.99, 1)\n",
    "plt.xlabel('Number of boosting rounds')\n",
    "plt.ylabel('MAP')\n",
    "plt.title('Boosting rounds vs MAP')"
   ]
  },
  {
   "cell_type": "markdown",
   "metadata": {},
   "source": [
    "From the graph above we can see that MAP peaks at around 270, and after the model starts to overfit the training data, leading to a decrease in the MAP of the test data"
   ]
  },
  {
   "cell_type": "code",
   "execution_count": 42,
   "metadata": {},
   "outputs": [
    {
     "name": "stdout",
     "output_type": "stream",
     "text": [
      "     test--mean  test--std  train--mean  train--std\n",
      "0      0.612030   0.023880     0.617693    0.013245\n",
      "1      0.635726   0.042208     0.638597    0.016901\n",
      "2      0.654425   0.040573     0.655268    0.021436\n",
      "3      0.663242   0.033159     0.662661    0.019488\n",
      "4      0.675128   0.029631     0.676524    0.017552\n",
      "5      0.680663   0.029719     0.684859    0.012837\n",
      "6      0.692846   0.038613     0.694512    0.023318\n",
      "7      0.700976   0.035905     0.702876    0.017304\n",
      "8      0.706733   0.035776     0.708388    0.020986\n",
      "9      0.708924   0.037021     0.712030    0.022606\n",
      "10     0.716251   0.034212     0.717562    0.024744\n",
      "11     0.732202   0.069548     0.732158    0.063884\n",
      "12     0.762281   0.087623     0.765441    0.081671\n",
      "13     0.809661   0.100170     0.814657    0.094415\n",
      "14     0.835243   0.094114     0.836612    0.090761\n",
      "15     0.837525   0.094014     0.838687    0.090819\n",
      "16     0.843375   0.101085     0.844526    0.098053\n",
      "17     0.863345   0.095079     0.861050    0.098498\n",
      "18     0.895820   0.081424     0.899369    0.072379\n",
      "19     0.899496   0.079603     0.901945    0.071655\n",
      "20     0.933516   0.028215     0.933339    0.027618\n",
      "21     0.941255   0.032397     0.940603    0.031637\n",
      "22     0.956499   0.036817     0.956242    0.035927\n",
      "23     0.969533   0.032374     0.968661    0.030296\n",
      "24     0.977759   0.032638     0.978961    0.028625\n",
      "25     0.983279   0.019529     0.984301    0.017655\n",
      "26     0.990866   0.005598     0.990745    0.003298\n",
      "27     0.991548   0.005462     0.991863    0.002256\n",
      "28     0.992679   0.005113     0.993212    0.001284\n",
      "29     0.992943   0.004990     0.993543    0.001553\n",
      "..          ...        ...          ...         ...\n",
      "270    0.998129   0.002267     0.999862    0.000054\n",
      "271    0.998118   0.002276     0.999865    0.000053\n",
      "272    0.998106   0.002286     0.999871    0.000050\n",
      "273    0.998110   0.002283     0.999875    0.000048\n",
      "274    0.998121   0.002280     0.999877    0.000049\n",
      "275    0.998131   0.002274     0.999880    0.000048\n",
      "276    0.998122   0.002283     0.999883    0.000046\n",
      "277    0.998128   0.002286     0.999886    0.000045\n",
      "278    0.998125   0.002288     0.999889    0.000044\n",
      "279    0.998134   0.002279     0.999891    0.000043\n",
      "280    0.998154   0.002264     0.999894    0.000043\n",
      "281    0.998160   0.002255     0.999895    0.000043\n",
      "282    0.998168   0.002253     0.999897    0.000043\n",
      "283    0.998173   0.002250     0.999900    0.000041\n",
      "284    0.998166   0.002249     0.999902    0.000042\n",
      "285    0.998167   0.002241     0.999905    0.000042\n",
      "286    0.998174   0.002236     0.999908    0.000039\n",
      "287    0.998165   0.002244     0.999912    0.000037\n",
      "288    0.998173   0.002243     0.999913    0.000037\n",
      "289    0.998163   0.002241     0.999915    0.000036\n",
      "290    0.998164   0.002243     0.999917    0.000035\n",
      "291    0.998164   0.002244     0.999919    0.000034\n",
      "292    0.998148   0.002255     0.999921    0.000033\n",
      "293    0.998141   0.002259     0.999923    0.000032\n",
      "294    0.998144   0.002258     0.999925    0.000032\n",
      "295    0.998156   0.002243     0.999927    0.000031\n",
      "296    0.998149   0.002244     0.999930    0.000030\n",
      "297    0.998152   0.002249     0.999932    0.000030\n",
      "298    0.998143   0.002253     0.999935    0.000028\n",
      "299    0.998138   0.002257     0.999936    0.000027\n",
      "\n",
      "[300 rows x 4 columns]\n"
     ]
    }
   ],
   "source": [
    "# Create the parameter dictionary for each tree (boosting round)\n",
    "params = {\"objective\":\"reg:logistic\", \"max_depth\":3, \"learning_rate\":0.069, \"subsample\":0.8, \"colsample_bytree\":0.95, \"gamma\":0.12}\n",
    "    \n",
    "# Perform cross-validation: cv_results\n",
    "cv_results = xgb.cv(dtrain=dmatrix, params=params, metrics=\"map\", as_pandas=True, num_boost_round=300, nfold=13, seed=42)\n",
    "#print(cv_results[-1:])\n",
    "print(cv_results)"
   ]
  },
  {
   "cell_type": "markdown",
   "metadata": {},
   "source": [
    "We then fit the model to our testing data which until now has been left untouched. To do this we fit the model to to the training data using the XGBClassifier, we use it to predict the probability that a given transaction is fraudulent. I have exported the results of the test to CSVs so that I can analyse the results, however I plan on graphing the results in python so that we can visualise the tradeoff between the precision and recall of the model"
   ]
  },
  {
   "cell_type": "code",
   "execution_count": 50,
   "metadata": {
    "collapsed": true
   },
   "outputs": [],
   "source": [
    "clf = xgb.XGBClassifier(max_depth = 3, n_estimators=200, objective=\"reg:logistic\", learning_rate=0.069, subsample=0.91, colsample_bytree=0.95, gamma=0.13)"
   ]
  },
  {
   "cell_type": "code",
   "execution_count": 51,
   "metadata": {
    "collapsed": true
   },
   "outputs": [],
   "source": [
    "clf.fit(X_train, y_train)\n",
    "probabilities = clf.predict_proba(X_test)"
   ]
  },
  {
   "cell_type": "code",
   "execution_count": 52,
   "metadata": {
    "collapsed": true
   },
   "outputs": [],
   "source": [
    "probabilities =pd.DataFrame(probabilities)\n",
    "probabilities.to_csv(\"probabilities.csv\")\n",
    "y_test.to_csv(\"target\")"
   ]
  },
  {
   "cell_type": "markdown",
   "metadata": {},
   "source": [
    "We construct a graph to visualise the importance of our features"
   ]
  },
  {
   "cell_type": "code",
   "execution_count": 169,
   "metadata": {},
   "outputs": [
    {
     "data": {
      "image/png": "[encoded data removed]",
      "text/plain": [
       "<matplotlib.figure.Figure at 0x1aa0df83dd8>"
      ]
     },
     "metadata": {},
     "output_type": "display_data"
    }
   ],
   "source": [
    "model = xgb.train(params=params, dtrain=dmatrix, num_boost_round=100)\n",
    "xgb.plot_importance(model, xlabel='Feature importance score',)\n",
    "plt.show()"
   ]
  }
 ],
 "metadata": {
  "kernelspec": {
   "display_name": "Python 3",
   "language": "python",
   "name": "python3"
  },
  "language_info": {
   "codemirror_mode": {
    "name": "ipython",
    "version": 3
   },
   "file_extension": ".py",
   "mimetype": "text/x-python",
   "name": "python",
   "nbconvert_exporter": "python",
   "pygments_lexer": "ipython3",
   "version": "3.6.1"
  }
 },
 "nbformat": 4,
 "nbformat_minor": 2
}
