{
 "cells": [
  {
   "cell_type": "markdown",
   "metadata": {},
   "source": [
    "# Coinmarketcap - BTC Web Scraper"
   ]
  },
  {
   "cell_type": "code",
   "execution_count": 32,
   "metadata": {},
   "outputs": [],
   "source": [
    "import urllib.request\n",
    "import warnings\n",
    "from bs4 import BeautifulSoup\n",
    "import pandas as pd"
   ]
  },
  {
   "cell_type": "markdown",
   "metadata": {},
   "source": [
    "We start by connecting to the coinmarket URL and parse the web data using BeautifulSoup. To update the data being scraped you need to change the url to the current date."
   ]
  },
  {
   "cell_type": "code",
   "execution_count": 33,
   "metadata": {
    "collapsed": true
   },
   "outputs": [],
   "source": [
    "url = \"https://coinmarketcap.com/currencies/bitcoin/historical-data/?start=20130428&end=20180226\"\n",
    "page =  urllib.request.urlopen(url)\n",
    "soup = BeautifulSoup(page, \"lxml\")"
   ]
  },
  {
   "cell_type": "markdown",
   "metadata": {},
   "source": [
    "The price data that we want is in the td tag, we append the web data into a pandas dataframe"
   ]
  },
  {
   "cell_type": "code",
   "execution_count": 34,
   "metadata": {
    "collapsed": true
   },
   "outputs": [],
   "source": [
    "all_data=soup.find_all('td')\n",
    "\n",
    "df = pd.DataFrame()\n",
    "\n",
    "cols = ['Date', 'Open', 'High', 'Low', 'Close', 'Volume', 'Market Cap']\n",
    "\n",
    "for i, v in enumerate(cols):\n",
    "    df[v] = all_data[i::7]"
   ]
  },
  {
   "cell_type": "markdown",
   "metadata": {},
   "source": [
    "We look at the head of the dataframe, we want to check that all of the data is in the right columns. Now that we know that it is we can start cleaning the data up"
   ]
  },
  {
   "cell_type": "code",
   "execution_count": 35,
   "metadata": {},
   "outputs": [
    {
     "data": {
      "text/html": [
       "<div>\n",
       "<style>\n",
       "    .dataframe thead tr:only-child th {\n",
       "        text-align: right;\n",
       "    }\n",
       "\n",
       "    .dataframe thead th {\n",
       "        text-align: left;\n",
       "    }\n",
       "\n",
       "    .dataframe tbody tr th {\n",
       "        vertical-align: top;\n",
       "    }\n",
       "</style>\n",
       "<table border=\"1\" class=\"dataframe\">\n",
       "  <thead>\n",
       "    <tr style=\"text-align: right;\">\n",
       "      <th></th>\n",
       "      <th>Date</th>\n",
       "      <th>Open</th>\n",
       "      <th>High</th>\n",
       "      <th>Low</th>\n",
       "      <th>Close</th>\n",
       "      <th>Volume</th>\n",
       "      <th>Market Cap</th>\n",
       "    </tr>\n",
       "  </thead>\n",
       "  <tbody>\n",
       "    <tr>\n",
       "      <th>0</th>\n",
       "      <td>&lt;td class=\"text-left\"&gt;Feb 25, 2018&lt;/td&gt;</td>\n",
       "      <td>&lt;td data-format-fiat=\"\" data-format-value=\"979...</td>\n",
       "      <td>&lt;td data-format-fiat=\"\" data-format-value=\"992...</td>\n",
       "      <td>&lt;td data-format-fiat=\"\" data-format-value=\"940...</td>\n",
       "      <td>&lt;td data-format-fiat=\"\" data-format-value=\"966...</td>\n",
       "      <td>&lt;td data-format-market-cap=\"\" data-format-valu...</td>\n",
       "      <td>&lt;td data-format-market-cap=\"\" data-format-valu...</td>\n",
       "    </tr>\n",
       "    <tr>\n",
       "      <th>1</th>\n",
       "      <td>&lt;td class=\"text-left\"&gt;Feb 24, 2018&lt;/td&gt;</td>\n",
       "      <td>&lt;td data-format-fiat=\"\" data-format-value=\"102...</td>\n",
       "      <td>&lt;td data-format-fiat=\"\" data-format-value=\"105...</td>\n",
       "      <td>&lt;td data-format-fiat=\"\" data-format-value=\"954...</td>\n",
       "      <td>&lt;td data-format-fiat=\"\" data-format-value=\"981...</td>\n",
       "      <td>&lt;td data-format-market-cap=\"\" data-format-valu...</td>\n",
       "      <td>&lt;td data-format-market-cap=\"\" data-format-valu...</td>\n",
       "    </tr>\n",
       "    <tr>\n",
       "      <th>2</th>\n",
       "      <td>&lt;td class=\"text-left\"&gt;Feb 23, 2018&lt;/td&gt;</td>\n",
       "      <td>&lt;td data-format-fiat=\"\" data-format-value=\"993...</td>\n",
       "      <td>&lt;td data-format-fiat=\"\" data-format-value=\"104...</td>\n",
       "      <td>&lt;td data-format-fiat=\"\" data-format-value=\"973...</td>\n",
       "      <td>&lt;td data-format-fiat=\"\" data-format-value=\"103...</td>\n",
       "      <td>&lt;td data-format-market-cap=\"\" data-format-valu...</td>\n",
       "      <td>&lt;td data-format-market-cap=\"\" data-format-valu...</td>\n",
       "    </tr>\n",
       "    <tr>\n",
       "      <th>3</th>\n",
       "      <td>&lt;td class=\"text-left\"&gt;Feb 22, 2018&lt;/td&gt;</td>\n",
       "      <td>&lt;td data-format-fiat=\"\" data-format-value=\"106...</td>\n",
       "      <td>&lt;td data-format-fiat=\"\" data-format-value=\"110...</td>\n",
       "      <td>&lt;td data-format-fiat=\"\" data-format-value=\"993...</td>\n",
       "      <td>&lt;td data-format-fiat=\"\" data-format-value=\"100...</td>\n",
       "      <td>&lt;td data-format-market-cap=\"\" data-format-valu...</td>\n",
       "      <td>&lt;td data-format-market-cap=\"\" data-format-valu...</td>\n",
       "    </tr>\n",
       "    <tr>\n",
       "      <th>4</th>\n",
       "      <td>&lt;td class=\"text-left\"&gt;Feb 21, 2018&lt;/td&gt;</td>\n",
       "      <td>&lt;td data-format-fiat=\"\" data-format-value=\"113...</td>\n",
       "      <td>&lt;td data-format-fiat=\"\" data-format-value=\"114...</td>\n",
       "      <td>&lt;td data-format-fiat=\"\" data-format-value=\"104...</td>\n",
       "      <td>&lt;td data-format-fiat=\"\" data-format-value=\"106...</td>\n",
       "      <td>&lt;td data-format-market-cap=\"\" data-format-valu...</td>\n",
       "      <td>&lt;td data-format-market-cap=\"\" data-format-valu...</td>\n",
       "    </tr>\n",
       "  </tbody>\n",
       "</table>\n",
       "</div>"
      ],
      "text/plain": [
       "                                      Date  \\\n",
       "0  <td class=\"text-left\">Feb 25, 2018</td>   \n",
       "1  <td class=\"text-left\">Feb 24, 2018</td>   \n",
       "2  <td class=\"text-left\">Feb 23, 2018</td>   \n",
       "3  <td class=\"text-left\">Feb 22, 2018</td>   \n",
       "4  <td class=\"text-left\">Feb 21, 2018</td>   \n",
       "\n",
       "                                                Open  \\\n",
       "0  <td data-format-fiat=\"\" data-format-value=\"979...   \n",
       "1  <td data-format-fiat=\"\" data-format-value=\"102...   \n",
       "2  <td data-format-fiat=\"\" data-format-value=\"993...   \n",
       "3  <td data-format-fiat=\"\" data-format-value=\"106...   \n",
       "4  <td data-format-fiat=\"\" data-format-value=\"113...   \n",
       "\n",
       "                                                High  \\\n",
       "0  <td data-format-fiat=\"\" data-format-value=\"992...   \n",
       "1  <td data-format-fiat=\"\" data-format-value=\"105...   \n",
       "2  <td data-format-fiat=\"\" data-format-value=\"104...   \n",
       "3  <td data-format-fiat=\"\" data-format-value=\"110...   \n",
       "4  <td data-format-fiat=\"\" data-format-value=\"114...   \n",
       "\n",
       "                                                 Low  \\\n",
       "0  <td data-format-fiat=\"\" data-format-value=\"940...   \n",
       "1  <td data-format-fiat=\"\" data-format-value=\"954...   \n",
       "2  <td data-format-fiat=\"\" data-format-value=\"973...   \n",
       "3  <td data-format-fiat=\"\" data-format-value=\"993...   \n",
       "4  <td data-format-fiat=\"\" data-format-value=\"104...   \n",
       "\n",
       "                                               Close  \\\n",
       "0  <td data-format-fiat=\"\" data-format-value=\"966...   \n",
       "1  <td data-format-fiat=\"\" data-format-value=\"981...   \n",
       "2  <td data-format-fiat=\"\" data-format-value=\"103...   \n",
       "3  <td data-format-fiat=\"\" data-format-value=\"100...   \n",
       "4  <td data-format-fiat=\"\" data-format-value=\"106...   \n",
       "\n",
       "                                              Volume  \\\n",
       "0  <td data-format-market-cap=\"\" data-format-valu...   \n",
       "1  <td data-format-market-cap=\"\" data-format-valu...   \n",
       "2  <td data-format-market-cap=\"\" data-format-valu...   \n",
       "3  <td data-format-market-cap=\"\" data-format-valu...   \n",
       "4  <td data-format-market-cap=\"\" data-format-valu...   \n",
       "\n",
       "                                          Market Cap  \n",
       "0  <td data-format-market-cap=\"\" data-format-valu...  \n",
       "1  <td data-format-market-cap=\"\" data-format-valu...  \n",
       "2  <td data-format-market-cap=\"\" data-format-valu...  \n",
       "3  <td data-format-market-cap=\"\" data-format-valu...  \n",
       "4  <td data-format-market-cap=\"\" data-format-valu...  "
      ]
     },
     "execution_count": 35,
     "metadata": {},
     "output_type": "execute_result"
    }
   ],
   "source": [
    "df = df[0:1519]\n",
    "df.head()"
   ]
  },
  {
   "cell_type": "markdown",
   "metadata": {},
   "source": [
    "Note that I only keep the first 1519 rows since the bottom rows contain no volume data"
   ]
  },
  {
   "cell_type": "markdown",
   "metadata": {},
   "source": [
    "We start by cleaning up the numeric columns, to do this we convert the from type object to string, we extract part of the string of interest using the split method, finally we convert the data to from type string to numeric."
   ]
  },
  {
   "cell_type": "code",
   "execution_count": 36,
   "metadata": {},
   "outputs": [],
   "source": [
    "num_list = ['Open', 'High', 'Low', 'Close', 'Volume', 'Market Cap']\n",
    "\n",
    "for item in num_list:\n",
    "    df[item] = df[item].astype(str)\n",
    "    df[item] = df[item].str.split('=\"').str.get(2)\n",
    "    df[item] = df[item].str.split('\">').str.get(0)\n",
    "    df[item] = pd.to_numeric(df[item])"
   ]
  },
  {
   "cell_type": "markdown",
   "metadata": {},
   "source": [
    "We then clean up the Date column, to do this we convert the from type object to string, we extract part of the string of interest using the split method, finally we convert the data to from type string to datetime."
   ]
  },
  {
   "cell_type": "code",
   "execution_count": 37,
   "metadata": {
    "collapsed": true
   },
   "outputs": [],
   "source": [
    "df['Date'] = df['Date'].astype(str)\n",
    "df['Date'] = df['Date'].str.split('\">').str.get(1)\n",
    "df['Date'] = df['Date'].str.split('</td>').str.get(0)\n",
    "df['Date'] = pd.to_datetime(df['Date'])"
   ]
  },
  {
   "cell_type": "markdown",
   "metadata": {},
   "source": [
    "We now look at our dataframe using the head and info methods. Everything looks ok!"
   ]
  },
  {
   "cell_type": "code",
   "execution_count": 38,
   "metadata": {
    "scrolled": false
   },
   "outputs": [
    {
     "data": {
      "text/html": [
       "<div>\n",
       "<style>\n",
       "    .dataframe thead tr:only-child th {\n",
       "        text-align: right;\n",
       "    }\n",
       "\n",
       "    .dataframe thead th {\n",
       "        text-align: left;\n",
       "    }\n",
       "\n",
       "    .dataframe tbody tr th {\n",
       "        vertical-align: top;\n",
       "    }\n",
       "</style>\n",
       "<table border=\"1\" class=\"dataframe\">\n",
       "  <thead>\n",
       "    <tr style=\"text-align: right;\">\n",
       "      <th></th>\n",
       "      <th>Date</th>\n",
       "      <th>Open</th>\n",
       "      <th>High</th>\n",
       "      <th>Low</th>\n",
       "      <th>Close</th>\n",
       "      <th>Volume</th>\n",
       "      <th>Market Cap</th>\n",
       "    </tr>\n",
       "  </thead>\n",
       "  <tbody>\n",
       "    <tr>\n",
       "      <th>0</th>\n",
       "      <td>2018-02-25</td>\n",
       "      <td>9796.42</td>\n",
       "      <td>9923.22</td>\n",
       "      <td>9407.06</td>\n",
       "      <td>9664.73</td>\n",
       "      <td>5.706940e+09</td>\n",
       "      <td>1.654070e+11</td>\n",
       "    </tr>\n",
       "    <tr>\n",
       "      <th>1</th>\n",
       "      <td>2018-02-24</td>\n",
       "      <td>10287.70</td>\n",
       "      <td>10597.20</td>\n",
       "      <td>9546.97</td>\n",
       "      <td>9813.07</td>\n",
       "      <td>6.917930e+09</td>\n",
       "      <td>1.736820e+11</td>\n",
       "    </tr>\n",
       "    <tr>\n",
       "      <th>2</th>\n",
       "      <td>2018-02-23</td>\n",
       "      <td>9937.07</td>\n",
       "      <td>10487.30</td>\n",
       "      <td>9734.56</td>\n",
       "      <td>10301.10</td>\n",
       "      <td>7.739500e+09</td>\n",
       "      <td>1.677460e+11</td>\n",
       "    </tr>\n",
       "    <tr>\n",
       "      <th>3</th>\n",
       "      <td>2018-02-22</td>\n",
       "      <td>10660.40</td>\n",
       "      <td>11039.10</td>\n",
       "      <td>9939.09</td>\n",
       "      <td>10005.00</td>\n",
       "      <td>8.040080e+09</td>\n",
       "      <td>1.799360e+11</td>\n",
       "    </tr>\n",
       "    <tr>\n",
       "      <th>4</th>\n",
       "      <td>2018-02-21</td>\n",
       "      <td>11372.20</td>\n",
       "      <td>11418.50</td>\n",
       "      <td>10479.10</td>\n",
       "      <td>10690.40</td>\n",
       "      <td>9.405340e+09</td>\n",
       "      <td>1.919270e+11</td>\n",
       "    </tr>\n",
       "  </tbody>\n",
       "</table>\n",
       "</div>"
      ],
      "text/plain": [
       "        Date      Open      High       Low     Close        Volume  \\\n",
       "0 2018-02-25   9796.42   9923.22   9407.06   9664.73  5.706940e+09   \n",
       "1 2018-02-24  10287.70  10597.20   9546.97   9813.07  6.917930e+09   \n",
       "2 2018-02-23   9937.07  10487.30   9734.56  10301.10  7.739500e+09   \n",
       "3 2018-02-22  10660.40  11039.10   9939.09  10005.00  8.040080e+09   \n",
       "4 2018-02-21  11372.20  11418.50  10479.10  10690.40  9.405340e+09   \n",
       "\n",
       "     Market Cap  \n",
       "0  1.654070e+11  \n",
       "1  1.736820e+11  \n",
       "2  1.677460e+11  \n",
       "3  1.799360e+11  \n",
       "4  1.919270e+11  "
      ]
     },
     "execution_count": 38,
     "metadata": {},
     "output_type": "execute_result"
    }
   ],
   "source": [
    "df.head()"
   ]
  },
  {
   "cell_type": "code",
   "execution_count": 39,
   "metadata": {},
   "outputs": [
    {
     "name": "stdout",
     "output_type": "stream",
     "text": [
      "<class 'pandas.core.frame.DataFrame'>\n",
      "RangeIndex: 1519 entries, 0 to 1518\n",
      "Data columns (total 7 columns):\n",
      "Date          1519 non-null datetime64[ns]\n",
      "Open          1519 non-null float64\n",
      "High          1519 non-null float64\n",
      "Low           1519 non-null float64\n",
      "Close         1519 non-null float64\n",
      "Volume        1519 non-null float64\n",
      "Market Cap    1519 non-null float64\n",
      "dtypes: datetime64[ns](1), float64(6)\n",
      "memory usage: 83.1 KB\n"
     ]
    }
   ],
   "source": [
    "df.info()"
   ]
  }
 ],
 "metadata": {
  "kernelspec": {
   "display_name": "Python 3",
   "language": "python",
   "name": "python3"
  },
  "language_info": {
   "codemirror_mode": {
    "name": "ipython",
    "version": 3
   },
   "file_extension": ".py",
   "mimetype": "text/x-python",
   "name": "python",
   "nbconvert_exporter": "python",
   "pygments_lexer": "ipython3",
   "version": "3.6.1"
  }
 },
 "nbformat": 4,
 "nbformat_minor": 2
}
